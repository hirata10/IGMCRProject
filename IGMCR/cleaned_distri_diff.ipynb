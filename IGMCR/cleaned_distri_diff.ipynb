{
 "cells": [
  {
   "cell_type": "code",
   "execution_count": 1,
   "id": "88397290",
   "metadata": {},
   "outputs": [],
   "source": [
    "import numpy as np\n",
    "import matplotlib.pyplot as plt\n",
    "import pickle as pkl\n",
    "from astropy.io import fits\n",
    "import scipy.sparse\n",
    "import scipy.linalg\n",
    "import time\n",
    "\n",
    "from astropy.io import fits\n",
    "\n",
    "r0 = 2.818e-13 # classical electron radius in cm\n",
    "m_e = 9.10938e-28 # electron mass in gram\n",
    "c = 2.998e10 # speed of light in cm/s\n",
    "h = 6.6261e-27 # planck constant in cm^2 g s-1\n",
    "eV_to_erg = 1.6022e-12\n",
    "parsec_to_cm = 3.085677581e18 # cm per parsec\n",
    "\n",
    "kB = 1.3808e-16 # boltzmann constant in cm^2 g s^-2 K^-1\n",
    "T_CMB = 2.725 # CMB temperature today in K\n",
    "\n",
    "H_0 = 2.184e-18 # current hubble constant in s^-1\n",
    "H_r = 3.24076e-18 # 100 km/s/Mpc to 1/s\n",
    "h_0 = H_0 / H_r\n",
    "omega_b_0 = 0.0224 / h_0 / h_0  # current baryon abundance\n",
    "m_p = 1.67262193269e-24 # proton mass in g\n",
    "G = 6.6743e-8 # gravitational constant in cm^3 g^-1 s^-2\n",
    "f_He = 0.079 # helium mass fraction\n",
    "f_H = 0.76 # hydrogen fraction\n",
    "Y_He = 0.24\n",
    "\n",
    "E_e = m_e * c * c\n",
    "rho_crit = 3 * H_0 * H_0 / 8 / np.pi / G\n",
    "e = 2.718281828459 # base of natural log\n",
    "\n",
    "z = 2\n",
    "z2 = (1 + z) / 3\n",
    "T_CMB *= 1+z # scale to CMB temperature at that redshift"
   ]
  },
  {
   "cell_type": "code",
   "execution_count": 2,
   "id": "edb61412",
   "metadata": {},
   "outputs": [],
   "source": [
    "with open('rate_z2_10Mpc_new.pkl', 'rb') as f:\n",
    "    rata_arr = pkl.load(f)\n",
    "    \n",
    "rate_arr = np.array(rata_arr)\n",
    "rate_arr = rate_arr.reshape(400,400) # [i][j]: gamma[i] theta[j], rate_arr[-1] = nan\n",
    "rate_trans = np.transpose(rate_arr) # [i][j]: theta[i] gamma[j], rate_trans[i][-1] = nan\n",
    "rate_trans[:,-1]=0. # remove nan\n",
    "#fits.PrimaryHDU(rate_trans).writeto('rate_trans.fits', overwrite=True)\n",
    "\n",
    "gamma_e_arr = np.logspace(8, 14, 400) * eV_to_erg / m_e / c**2 # lab-frame Lorentz factor of the electron produced\n",
    "theta_e_arr = np.logspace(-8,0, 400)"
   ]
  },
  {
   "cell_type": "markdown",
   "id": "2abc8f38",
   "metadata": {},
   "source": [
    "### generate theta_rms"
   ]
  },
  {
   "cell_type": "markdown",
   "id": "b69c2743",
   "metadata": {},
   "source": [
    "### read theta_rms directly"
   ]
  },
  {
   "cell_type": "code",
   "execution_count": 3,
   "id": "54ced6a6",
   "metadata": {},
   "outputs": [
    {
     "name": "stdout",
     "output_type": "stream",
     "text": [
      "9.9066004556493e-11 7.154739952002411e-20\n"
     ]
    }
   ],
   "source": [
    "prefix_sums = np.load(\"prefix_sums_new.npy\")\n",
    "print(prefix_sums[0], prefix_sums[-1])"
   ]
  },
  {
   "cell_type": "code",
   "execution_count": 4,
   "id": "824b08b3",
   "metadata": {},
   "outputs": [],
   "source": [
    "def calculate_solid_angles(theta):\n",
    "    # theta_half[i] = theta[i-1/2]\n",
    "    theta_half = (theta[1:] + theta[:-1]) / 2\n",
    "    theta_half = np.concatenate([[theta[0]/2], theta_half, [3*theta[-1]/2 - theta[-2]/2]])\n",
    "\n",
    "    Omega = 2 * np.pi * (theta_half[2:]**2 - theta_half[:-2]**2) / 2  # solid angles of annulus\n",
    "    Omega = np.concatenate([Omega, [2 * np.pi * (theta[-1]**2 - theta_half[-2]**2)]])  # add the last circle\n",
    "\n",
    "    return Omega, theta_half"
   ]
  },
  {
   "cell_type": "code",
   "execution_count": 5,
   "id": "97adfb0e",
   "metadata": {},
   "outputs": [],
   "source": [
    "Omega, theta_half = calculate_solid_angles(theta_e_arr)"
   ]
  },
  {
   "cell_type": "code",
   "execution_count": 6,
   "id": "eba70d36",
   "metadata": {},
   "outputs": [],
   "source": [
    "M = np.zeros((400, 400))\n",
    "\n",
    "for i in range(400):\n",
    "    for j in range(400):\n",
    "        if j == i + 1:\n",
    "            M[i, j] = -2 * np.pi / Omega[i] * theta_half[i+1] / (theta_e_arr[i+1] - theta_e_arr[i])\n",
    "        if j == i - 1:\n",
    "            M[i, j] = -2 * np.pi / Omega[i] * theta_half[i] / (theta_e_arr[i] - theta_e_arr[i-1])\n",
    "for i in range(1,399):\n",
    "    M[i, i] = 2 * np.pi / Omega[i] * (theta_half[i+1] / (theta_e_arr[i+1] - theta_e_arr[i]) + theta_half[i] / (theta_e_arr[i] - theta_e_arr[i-1]))\n",
    "\n",
    "M[0,0] = -M[1,0]*Omega[1]/Omega[0]\n",
    "M[-1,-1] = -M[-2,-1]*Omega[-2]/Omega[-1]"
   ]
  },
  {
   "cell_type": "code",
   "execution_count": 7,
   "id": "7b1ad98c",
   "metadata": {},
   "outputs": [],
   "source": [
    "P = np.diag(np.sqrt(1/Omega))\n",
    "L = np.linalg.inv(P)@M@P\n",
    "eigenvalues_L, eigenvectors_L = np.linalg.eigh(L)\n",
    "R_L = eigenvectors_L.copy()\n",
    "lambda_l = eigenvalues_L.copy()"
   ]
  },
  {
   "cell_type": "markdown",
   "id": "36da9de7",
   "metadata": {},
   "source": [
    "### new element of columb"
   ]
  },
  {
   "cell_type": "code",
   "execution_count": 8,
   "id": "2e3a9505",
   "metadata": {},
   "outputs": [
    {
     "data": {
      "image/png": "[encoded data removed]",
      "text/plain": [
       "<Figure size 432x288 with 1 Axes>"
      ]
     },
     "metadata": {
      "needs_background": "light"
     },
     "output_type": "display_data"
    }
   ],
   "source": [
    "F_NP = np.loadtxt('fnpk_z2_new.dat')\n",
    "k_prep = F_NP[:, 0]\n",
    "fnpk = F_NP[:, 1]\n",
    "plt.plot(k_prep, fnpk)\n",
    "plt.xscale('log')\n",
    "plt.show()"
   ]
  },
  {
   "cell_type": "code",
   "execution_count": 9,
   "id": "1c5e26f3",
   "metadata": {},
   "outputs": [
    {
     "name": "stdout",
     "output_type": "stream",
     "text": [
      "1.9013292305894944\n"
     ]
    }
   ],
   "source": [
    "print(max(fnpk))"
   ]
  },
  {
   "cell_type": "code",
   "execution_count": 10,
   "id": "5596f537",
   "metadata": {},
   "outputs": [
    {
     "name": "stdout",
     "output_type": "stream",
     "text": [
      "0.001\n"
     ]
    }
   ],
   "source": [
    "dk = np.array([F_NP[:, 0][i] - F_NP[:, 0][i-1] for i in range(1, 301)])\n",
    "dk = np.insert(dk, 0, 0)\n",
    "\n",
    "k_cut = F_NP[:, 0][-1] # suppose, as long as k_cut at fnpk ~1 region, doesn't matter of value choosen\n",
    "print(k_cut)"
   ]
  },
  {
   "cell_type": "code",
   "execution_count": 11,
   "id": "ca4a0e02",
   "metadata": {},
   "outputs": [],
   "source": [
    "omega_b = omega_b_0 * (1 + z)**3\n",
    "mean_n_b = 3 * omega_b * H_0 * H_0 / (8 * np.pi * G * m_p) # mean number density of baryons at the redshift\n",
    "n_b = mean_n_b # for mean density\n",
    "    \n",
    "n_H = n_b * (1 - Y_He) # nuclei in hydrogen\n",
    "n_He = n_H * f_He # nuclei in helium, assume He is all 4He\n",
    "\n",
    "n_e = n_H + 2 * n_He # for fully ionized"
   ]
  },
  {
   "cell_type": "code",
   "execution_count": 16,
   "id": "da9be13a",
   "metadata": {},
   "outputs": [],
   "source": [
    "nsp = 3 # number of species\n",
    "mass_sp = np.array([m_e, m_p, 4*m_p]) # masses\n",
    "nth_sp = np.array([n_e,n_H,n_He]) # number densities\n",
    "Z_sp = np.array([-1.,1.,2.]) # charges\n",
    "\n",
    "Z_proj = 1\n",
    "\n",
    "def T_vectorized(gamma, l): # eq 37\n",
    "    p_proj = m_e * c * gamma\n",
    "    #print('p_proj', p_proj.shape)\n",
    "    v_proj = c / gamma\n",
    "    #print('v_proj', v_proj.shape)\n",
    "    co = 2 * np.pi * l**2 * Z_proj**2 * e**4 / (p_proj**2 * v_proj)\n",
    "    #print('co', co.shape)\n",
    "    \n",
    "    ## vectorize\n",
    "    gamma_E = np.euler_gamma # Euler's constant\n",
    "    sum_nsp = np.zeros(gamma.shape) # Initialize sum_nsp as an array of zeros with the same shape as gamma\n",
    "    \n",
    "    for a in range(nsp):\n",
    "        int_FNP = np.sum(dk * F_NP[:, 1] / F_NP[:, 0] + 1 - gamma_E - np.log(h/2/np.pi * k_cut * l / p_proj[:, np.newaxis]), axis=1)\n",
    "        #print('int_FNP', int_FNP.shape)\n",
    "        sum_isp = Z_sp[a]**2 * nth_sp[a] * int_FNP\n",
    "        sum_nsp += sum_isp\n",
    "    \n",
    "    return co * sum_nsp"
   ]
  },
  {
   "cell_type": "code",
   "execution_count": 13,
   "id": "89d675d8",
   "metadata": {},
   "outputs": [],
   "source": [
    "def T_ij(l, i ,j): # eq 39 bracket part\n",
    "    print('l', l)\n",
    "    Gamma_IC0 = 1.1e-18 * z2**4\n",
    "    gamma_ij = gamma_e_arr[i:j+1]\n",
    "    print('gamma_ij', gamma_ij.shape)\n",
    "    d_gamma_e = np.insert(np.diff(gamma_ij), 0, 0)\n",
    "    Tl = T_vectorized(gamma_ij, l)\n",
    "    #print(Tl.shape, d_gamma_e.shape, gamma_ij.shape)\n",
    "    return -np.sum(Tl * d_gamma_e / Gamma_IC0 / gamma_ij**2) # exp(T_ij)"
   ]
  },
  {
   "cell_type": "code",
   "execution_count": 14,
   "id": "0ed87f90",
   "metadata": {},
   "outputs": [
    {
     "name": "stdout",
     "output_type": "stream",
     "text": [
      "[           nan            nan            nan 2.61990748e+00\n",
      " 6.13877552e+00 9.38494161e+00 1.25299003e+01 1.55841304e+01\n",
      " 1.85373811e+01 2.13723695e+01 2.40659680e+01 2.44389448e+01\n",
      " 2.60322776e+01 2.65837261e+01 2.88526365e+01 3.06860719e+01\n",
      " 3.22259533e+01 3.29502262e+01 3.41013196e+01 3.62493818e+01\n",
      " 3.85989251e+01 4.11682189e+01 4.35147395e+01 4.39925454e+01\n",
      " 4.71182337e+01 4.74919549e+01 5.06073721e+01 5.45469451e+01\n",
      " 5.50028208e+01 5.58945689e+01 5.90665533e+01 6.36673628e+01\n",
      " 6.43775906e+01 7.08796735e+01 7.27976301e+01 7.69186368e+01\n",
      " 7.83304970e+01 7.95852677e+01 8.62874714e+01 9.29032708e+01\n",
      " 9.80059497e+01 9.97149591e+01 1.07862769e+02 1.13349862e+02\n",
      " 1.19005245e+02 1.19859886e+02 1.29789392e+02 1.30610792e+02\n",
      " 1.36460418e+02 1.40676900e+02 1.47527236e+02 1.54497637e+02\n",
      " 1.62190848e+02 1.69534615e+02 1.76083821e+02 1.85562671e+02\n",
      " 1.95523753e+02 2.14242282e+02 2.23620079e+02 2.24320573e+02\n",
      " 2.34821028e+02 2.45967864e+02 2.69872500e+02 2.70461462e+02\n",
      " 2.82785853e+02 3.05154161e+02 3.10347773e+02 3.34905389e+02\n",
      " 3.40245677e+02 3.61476607e+02 3.78514977e+02 3.96430338e+02\n",
      " 4.15349578e+02 4.34955069e+02 4.55476374e+02 4.76980266e+02\n",
      " 4.99518362e+02 5.23126264e+02 5.47841192e+02 5.73721667e+02\n",
      " 6.00833823e+02 6.29226837e+02 6.58951763e+02 6.90083269e+02\n",
      " 7.22690680e+02 7.56836953e+02 7.92600410e+02 8.30049558e+02\n",
      " 8.69266281e+02 9.10337703e+02 9.53351008e+02 9.98399750e+02\n",
      " 1.04557120e+03 1.09497242e+03 1.14670764e+03 1.20088714e+03\n",
      " 1.25762421e+03 1.31704101e+03 1.37930238e+03 1.44448302e+03\n",
      " 1.51270108e+03 1.58417367e+03 1.65902767e+03 1.73741801e+03\n",
      " 1.81951221e+03 1.90548171e+03 1.99551378e+03 2.08980071e+03\n",
      " 2.18854424e+03 2.29195085e+03 2.40024321e+03 2.51365412e+03\n",
      " 2.63242385e+03 2.75680188e+03 2.88706230e+03 3.02347117e+03\n",
      " 3.16633004e+03 3.31593635e+03 3.47261279e+03 3.63669157e+03\n",
      " 3.80852318e+03 3.98847364e+03 4.17692666e+03 4.37428398e+03\n",
      " 4.58096633e+03 4.79741431e+03 5.02408931e+03 5.26147457e+03\n",
      " 5.51007617e+03 5.77042409e+03 6.04307320e+03 6.32860478e+03\n",
      " 6.62762767e+03 6.94077921e+03 7.26872693e+03 7.61217012e+03\n",
      " 7.97184054e+03 8.34850523e+03 8.74296747e+03 9.15606740e+03\n",
      " 9.58868610e+03 1.00417461e+04 1.05162125e+04 1.10130975e+04\n",
      " 1.15334598e+04 1.20784090e+04 1.26491068e+04 1.32467696e+04\n",
      " 1.38726717e+04 1.45281473e+04 1.52145937e+04 1.59334744e+04\n",
      " 1.66863217e+04 1.74747405e+04 1.83004117e+04 1.91650954e+04\n",
      " 2.00706350e+04 2.10189607e+04 2.20120941e+04 2.30521527e+04\n",
      " 2.41413534e+04 2.52820181e+04 2.64765786e+04 2.77275814e+04\n",
      " 2.90376934e+04 3.04097072e+04 3.18465481e+04 3.33512787e+04\n",
      " 3.49271071e+04 3.65773924e+04 3.83056527e+04 4.01155723e+04\n",
      " 4.20110095e+04 4.39960050e+04 4.60747904e+04 4.82517972e+04\n",
      " 5.05316663e+04 5.29192578e+04 5.54196617e+04 5.80382081e+04\n",
      " 6.07804794e+04 6.36523214e+04 6.66598562e+04 6.98094952e+04\n",
      " 7.31079529e+04 7.65622607e+04 8.01797827e+04 8.39682304e+04\n",
      " 8.79356799e+04 9.20905893e+04 9.64418157e+04 1.00998635e+05\n",
      " 1.05770761e+05 1.10768368e+05 1.16002108e+05 1.21483140e+05\n",
      " 1.27223147e+05 1.33234366e+05 1.39529612e+05 1.46122305e+05\n",
      " 1.53026498e+05 1.60256911e+05 1.67828956e+05 1.75758777e+05\n",
      " 1.84063276e+05 1.92760159e+05 2.01867964e+05 2.11406108e+05\n",
      " 2.21394924e+05 2.31855706e+05 2.42810753e+05 2.54283421e+05\n",
      " 2.66298166e+05 2.78880600e+05 2.92057548e+05 3.05857099e+05\n",
      " 3.20308672e+05 3.35443073e+05 3.51292567e+05 3.67890941e+05\n",
      " 3.85273579e+05 4.03477538e+05 4.22541625e+05 4.42506480e+05\n",
      " 4.63414664e+05 4.85310750e+05 5.08241415e+05 5.32255543e+05\n",
      " 5.57404327e+05 5.83741380e+05 6.11322848e+05 6.40207528e+05\n",
      " 6.70456997e+05 7.02135742e+05 7.35311295e+05 7.70054382e+05\n",
      " 8.06439068e+05 8.44542920e+05 8.84447168e+05 9.26236882e+05\n",
      " 9.70001150e+05 1.01583327e+06 1.06383096e+06 1.11409653e+06\n",
      " 1.16673714e+06 1.22186503e+06 1.27959771e+06 1.34005827e+06\n",
      " 1.40337560e+06 1.46968469e+06 1.53912691e+06 1.61185030e+06\n",
      " 1.68800991e+06 1.76776812e+06 1.85129496e+06 1.93876852e+06\n",
      " 2.03037530e+06 2.12631060e+06 2.22677898e+06 2.33199465e+06\n",
      " 2.44218195e+06 2.55757581e+06 2.67842229e+06 2.80497908e+06\n",
      " 2.93751602e+06 3.07631576e+06 3.22167426e+06 3.37390152e+06\n",
      " 3.53332218e+06 3.70027623e+06 3.87511974e+06 4.05822563e+06\n",
      " 4.24998447e+06 4.45080528e+06 4.66111646e+06 4.88136668e+06\n",
      " 5.11202584e+06 5.35358608e+06 5.60656286e+06 5.87149602e+06\n",
      " 6.14895101e+06 6.43952003e+06 6.74382336e+06 7.06251070e+06\n",
      " 7.39626253e+06 7.74579162e+06 8.11184455e+06 8.49520334e+06\n",
      " 8.89668715e+06 9.31715403e+06 9.75750285e+06 1.02186752e+07\n",
      " 1.07016575e+07 1.12074830e+07 1.17372344e+07 1.22920457e+07\n",
      " 1.28731055e+07 1.34816585e+07 1.41190094e+07 1.47865251e+07\n",
      " 1.54856379e+07 1.62178489e+07 1.69847310e+07 1.77879328e+07\n",
      " 1.86291823e+07 1.95102905e+07 2.04331559e+07 2.13997687e+07\n",
      " 2.24122152e+07 2.34726830e+07 2.45834659e+07 2.57469692e+07\n",
      " 2.69657154e+07 2.82423502e+07 2.95796487e+07 3.09805221e+07\n",
      " 3.24480248e+07 3.39853616e+07 3.55958955e+07 3.72831562e+07\n",
      " 3.90508484e+07 4.09028616e+07 4.28432793e+07 4.48763894e+07\n",
      " 4.70066953e+07 4.92389273e+07 5.15780551e+07 5.40293002e+07\n",
      " 5.65981502e+07 5.92903732e+07 6.21120330e+07 6.50695063e+07\n",
      " 6.81694993e+07 7.14190671e+07 7.48256331e+07 7.83970105e+07\n",
      " 8.21414246e+07 8.60675374e+07 9.01844730e+07 9.45018457e+07\n",
      " 9.90297895e+07 1.03778990e+08 1.08760719e+08 1.13986872e+08\n",
      " 1.19470006e+08 1.25223385e+08 1.31261026e+08 1.37597748e+08\n",
      " 1.44249229e+08 1.51232062e+08 1.58563824e+08 1.66263143e+08\n",
      " 1.74349778e+08 1.82844697e+08 1.91770176e+08 2.01149894e+08\n",
      " 2.11009044e+08 2.21374457e+08 2.32274731e+08 2.43740380e+08\n",
      " 2.55803993e+08 2.68500419e+08 2.81866957e+08 2.95943583e+08\n",
      " 3.10773192e+08 3.26401875e+08 3.42879223e+08 3.60258673e+08\n",
      " 3.78597900e+08 3.97959256e+08 4.18410270e+08 4.40024225e+08\n",
      " 4.62880806e+08 4.87066867e+08 5.12677297e+08 5.39816045e+08\n",
      " 5.68597313e+08 5.99146963e+08 6.31604186e+08 6.66123500e+08\n",
      " 7.02877150e+08 7.42058030e+08 7.83883261e+08 8.28598631e+08\n",
      " 8.76484154e+08 9.27861139e+08 9.83101290e+08 1.04263863e+09\n",
      " 1.10698542e+09 1.17675385e+09 1.25268643e+09 1.33569968e+09\n",
      " 1.42694945e+09 1.52793273e+09 1.64065508e+09 1.76792624e+09\n",
      " 1.91393247e+09 2.08550199e+09 2.29554278e+09 2.57675840e+09]\n"
     ]
    },
    {
     "name": "stderr",
     "output_type": "stream",
     "text": [
      "/var/folders/k2/qxng019s7y17hp_kgkzy9b180000gn/T/ipykernel_76825/2296288356.py:1: RuntimeWarning: invalid value encountered in sqrt\n",
      "  l = np.sqrt(lambda_l)\n"
     ]
    }
   ],
   "source": [
    "l = np.sqrt(lambda_l)\n",
    "print(l)"
   ]
  },
  {
   "cell_type": "code",
   "execution_count": 17,
   "id": "ea61d1b3",
   "metadata": {},
   "outputs": [
    {
     "name": "stdout",
     "output_type": "stream",
     "text": [
      "l nan\n",
      "gamma_ij (2,)\n",
      "nan\n",
      "l nan\n",
      "gamma_ij (400,)\n",
      "nan\n",
      "l nan\n",
      "gamma_ij (2,)\n",
      "nan\n",
      "l 2.619907481456147\n",
      "gamma_ij (2,)\n",
      "-1.0888931087349424e+37\n",
      "l 2.619907481456147\n",
      "gamma_ij (400,)\n",
      "-1.6494902011559505e+38\n",
      "l 2.619907481456147\n",
      "gamma_ij (2,)\n",
      "-1.6176563157534993e+25\n",
      "l 2576758400.8376894\n",
      "gamma_ij (2,)\n",
      "-4.420895893396106e+54\n",
      "l 2576758400.8376894\n",
      "gamma_ij (400,)\n",
      "-6.820541768809201e+55\n",
      "l 2576758400.8376894\n",
      "gamma_ij (2,)\n",
      "-9.097508410371333e+42\n"
     ]
    }
   ],
   "source": [
    "print(T_ij(l[0], 0, 1))\n",
    "print(T_ij(l[0], 0, 399))\n",
    "print(T_ij(l[0], 398, 399))\n",
    "print(T_ij(l[3], 0, 1))\n",
    "print(T_ij(l[3], 0, 399))\n",
    "print(T_ij(l[3], 398, 399))\n",
    "print(T_ij(l[-1], 0, 1))\n",
    "print(T_ij(l[-1], 0, 399))\n",
    "print(T_ij(l[-1], 398, 399))"
   ]
  },
  {
   "cell_type": "code",
   "execution_count": null,
   "id": "c12b6f9a",
   "metadata": {},
   "outputs": [],
   "source": []
  }
 ],
 "metadata": {
  "kernelspec": {
   "display_name": "Python 3 (ipykernel)",
   "language": "python",
   "name": "python3"
  },
  "language_info": {
   "codemirror_mode": {
    "name": "ipython",
    "version": 3
   },
   "file_extension": ".py",
   "mimetype": "text/x-python",
   "name": "python",
   "nbconvert_exporter": "python",
   "pygments_lexer": "ipython3",
   "version": "3.9.12"
  }
 },
 "nbformat": 4,
 "nbformat_minor": 5
}
