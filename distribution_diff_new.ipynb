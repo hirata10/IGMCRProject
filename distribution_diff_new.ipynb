{
 "cells": [
  {
   "cell_type": "code",
   "execution_count": 1,
   "id": "6c5c077a",
   "metadata": {},
   "outputs": [],
   "source": [
    "import numpy as np\n",
    "import matplotlib.pyplot as plt\n",
    "import pickle as pkl\n",
    "from astropy.io import fits\n",
    "import scipy.sparse\n",
    "import scipy.linalg\n",
    "import time\n",
    "\n",
    "r0 = 2.818e-13 # classical electron radius in cm\n",
    "m_e = 9.10938e-28 # electron mass in gram\n",
    "c = 2.998e10 # speed of light in cm/s\n",
    "h = 6.6261e-27 # planck constant in cm^2 g s-1\n",
    "eV_to_erg = 1.6022e-12\n",
    "parsec_to_cm = 3.085677581e18 # cm per parsec\n",
    "\n",
    "k = 1.3808e-16 # boltzmann constant in cm^2 g s^-2 K^-1\n",
    "T_CMB = 2.725 # CMB temperature today in K\n",
    "\n",
    "H_0 = 2.184e-18 # current hubble constant in s^-1\n",
    "H_r = 3.24076e-18 # 100 km/s/Mpc to 1/s\n",
    "h_0 = H_0 / H_r\n",
    "omega_b_0 = 0.0224 / h_0 / h_0  # current baryon abundance\n",
    "m_p = 1.67262193269e-24 # proton mass in g\n",
    "G = 6.6743e-8 # gravitational constant in cm^3 g^-1 s^-2\n",
    "f_He = 0.079 # helium mass fraction\n",
    "f_H = 0.76 # hydrogen fraction\n",
    "Y_He = 0.24\n",
    "\n",
    "E_e = m_e * c * c\n",
    "rho_crit = 3 * H_0 * H_0 / 8 / np.pi / G\n",
    "e = 2.718281828459 # base of natural log\n",
    "\n",
    "z = 2\n",
    "z2 = (1 + z) / 3"
   ]
  },
  {
   "cell_type": "code",
   "execution_count": 2,
   "id": "09d58ae0",
   "metadata": {},
   "outputs": [],
   "source": [
    "with open('rate_10Mpc.pkl', 'rb') as f:\n",
    "    rata_arr = pkl.load(f)\n",
    "    \n",
    "rate_arr = np.array(rata_arr)\n",
    "rate_arr = rate_arr.reshape(400,400) # [i][j]: gamma[i] theta[j], rate_arr[-1] = nan\n",
    "rate_trans = np.transpose(rate_arr) # [i][j]: theta[i] gamma[j], rate_trans[i][-1] = nan\n",
    "\n",
    "gamma_e_arr = np.logspace(8, 14, 400) * eV_to_erg / m_e / c**2 # lab-frame Lorentz factor of the electron produced\n",
    "theta_e_arr = np.logspace(-8,0, 400)"
   ]
  },
  {
   "cell_type": "code",
   "execution_count": 3,
   "id": "259d8efe",
   "metadata": {},
   "outputs": [],
   "source": [
    "def compton_f(x):\n",
    "    if x > 1e-2:\n",
    "        return ((-24 - 144*x - 290*x**2 - 194*x**3 + 20*x**4 + 28*x**5) / 3 / x**2 / (1+2*x)**3 + (4+4*x-x**2) / x**3 * np.log(1+2*x))\n",
    "    return 8/5*x**2 - 32/5*x**3 + 2248/105*x**4 - 1376/21*x**5 + 11840/63*x**6\n",
    "\n",
    "def compton_FF(x):\n",
    "    n = 1024\n",
    "    y = np.linspace(x / (2 * n), x - x / (2 * n), n)\n",
    "    result = 0.\n",
    "    for i in range(n): result += compton_f(y[i]) * y[i]\n",
    "    result *= x / n\n",
    "    return result"
   ]
  },
  {
   "cell_type": "code",
   "execution_count": 4,
   "id": "763a5d65",
   "metadata": {},
   "outputs": [
    {
     "name": "stderr",
     "output_type": "stream",
     "text": [
      "/var/folders/k2/qxng019s7y17hp_kgkzy9b180000gn/T/ipykernel_52762/3569518853.py:9: RuntimeWarning: overflow encountered in expm1\n",
      "  Bnu = 2 * h * nu**3 / c**2 / np.expm1(xx)\n"
     ]
    }
   ],
   "source": [
    "jtable = np.loadtxt('EBL_KS18_Q20_z_ 2.0.txt')\n",
    "nstep = np.shape(jtable)[0] - 1\n",
    "jtable[:,0] = 2.99792458e18 / jtable[:,0] # convert to Hz\n",
    "nu = (jtable[:-1,0] + jtable[1:,0]) / 2\n",
    "dnu = (jtable[:-1,0] - jtable[1:,0])\n",
    "JnuEBL = (jtable[:-1,1] + jtable[1:,1]) / 2\n",
    "\n",
    "xx = h*nu/k/T_CMB\n",
    "Bnu = 2 * h * nu**3 / c**2 / np.expm1(xx)\n",
    "Jnu = JnuEBL + Bnu"
   ]
  },
  {
   "cell_type": "code",
   "execution_count": null,
   "id": "ae00ac5c",
   "metadata": {},
   "outputs": [],
   "source": [
    "# This block takes about 20 mins, and I save it as prefix_sums.npy\n",
    "# For pratical use, just run the following block that loads the result\n",
    "n = 400\n",
    "\n",
    "prefix_sums = [0 for _ in range(n)] # theta_rms from gamma_jp to gamma_j = np.sqrt(prefix[j] - prefix[jp+1])\n",
    "\n",
    "for j in range(n-1, -1, -1):\n",
    "    all_int = 0\n",
    "    factors = Bnu / nu**3 * dnu\n",
    "    for k in range(nstep):\n",
    "        all_int += compton_FF(2 * gamma_e_arr[j] * h * nu[k] / m_e / c**2) * factors[k]\n",
    "\n",
    "    tp2 = 135 * m_e * c**2 / 128 / np.pi**4 / gamma_e_arr[j]**3 * (m_e * c**2 / k / T_CMB)**4 * all_int\n",
    "    sumi = tp2 / (m_e * c * gamma_e_arr[j])**2 * np.log(gamma_e_arr[1] / gamma_e_arr[0])\n",
    "\n",
    "    prefix_sums[j] = sumi\n",
    "\n",
    "    if j + 1 < n:\n",
    "        prefix_sums[j] += prefix_sums[j + 1]\n",
    "        \n",
    "np.save(\"prefix_sums.npy\", prefix_sums)"
   ]
  },
  {
   "cell_type": "code",
   "execution_count": 5,
   "id": "04b41826",
   "metadata": {},
   "outputs": [],
   "source": [
    "prefix_sums = np.load(\"prefix_sums.npy\")"
   ]
  },
  {
   "cell_type": "code",
   "execution_count": 6,
   "id": "cd88b45a",
   "metadata": {},
   "outputs": [],
   "source": [
    "def calculate_solid_angles(theta):\n",
    "    # theta_half[i] = theta[i-1/2]\n",
    "    theta_half = (theta[1:] + theta[:-1]) / 2\n",
    "    theta_half = np.concatenate([[theta[0]/2], theta_half, [3*theta[-1]/2 - theta[-2]/2]])\n",
    "\n",
    "    Omega = 2 * np.pi * (theta_half[2:]**2 - theta_half[:-2]**2) / 2  # solid angles of annulus\n",
    "    Omega = np.concatenate([Omega, [2 * np.pi * (theta[-1]**2 - theta_half[-2]**2)]])  # add the last circle\n",
    "\n",
    "    return Omega, theta_half"
   ]
  },
  {
   "cell_type": "code",
   "execution_count": 7,
   "id": "20ca2bc2",
   "metadata": {},
   "outputs": [],
   "source": [
    "Omega, theta_half = calculate_solid_angles(theta_e_arr)"
   ]
  },
  {
   "cell_type": "code",
   "execution_count": 8,
   "id": "812e7ba7",
   "metadata": {},
   "outputs": [],
   "source": [
    "M = np.zeros((400, 400))\n",
    "\n",
    "for i in range(1, 399):\n",
    "    for j in range(400):\n",
    "        if j == i + 1:\n",
    "            M[i, j] = -2 * np.pi / Omega[i] * theta_half[i+1] / (theta_e_arr[i+1] - theta_e_arr[i])\n",
    "        if j == i:\n",
    "            M[i, j] = 2 * np.pi / Omega[i] * (theta_half[i+1] / (theta_e_arr[i+1] - theta_e_arr[i]) + theta_half[i] / (theta_e_arr[i] - theta_e_arr[i-1]))\n",
    "        if j == i - 1:\n",
    "            M[i, j] = -2 * np.pi / Omega[i] * theta_half[i] / (theta_e_arr[i] - theta_e_arr[i-1])\n",
    "\n",
    "M[0, 0] = 0\n",
    "M[-1, -1] = 0"
   ]
  },
  {
   "cell_type": "code",
   "execution_count": 9,
   "id": "c788b9c6",
   "metadata": {},
   "outputs": [],
   "source": [
    "def get_nij(i, j, t, M_expm): # nij = dN / (dV dgammae_j dOmegae_i)\n",
    "    Gamma_IC0 = 1.1e-18 * z2**4\n",
    "    gamma_max_inv = 1. / gamma_e_arr[j] - Gamma_IC0 * t\n",
    "    if gamma_max_inv>1e-99:\n",
    "        gamma_max = 1./gamma_max_inv\n",
    "    else:\n",
    "        gamma_max = 1e99\n",
    "        \n",
    "    nij = 0\n",
    "    \n",
    "    for jp in range(j, 399):\n",
    "        if gamma_e_arr[jp] <= gamma_max:\n",
    "            # THIS IS A COMMENT: rate_trans_smoothed = M_expm @ rate_trans\n",
    "            # Then, rate_trans_smoothed[i][jp] is the dot product of M_expm[jp][i] and rate_trans[:, jp]\n",
    "            rate_trans_smoothed_ijp = np.dot(M_expm[jp, i, :], rate_trans[:, jp])\n",
    "                \n",
    "            sum_ij = (gamma_e_arr[jp] - gamma_e_arr[jp-1]) * rate_trans_smoothed_ijp\n",
    "            \n",
    "            if gamma_e_arr[jp+1] > gamma_max:\n",
    "                fraction = (gamma_max - gamma_e_arr[jp]) / (gamma_e_arr[jp+1] - gamma_e_arr[jp])\n",
    "                sum_ij = sum_ij * fraction\n",
    "            nij += sum_ij\n",
    "    nij = nij / (Gamma_IC0 * gamma_e_arr[j]**2)\n",
    "    return nij"
   ]
  },
  {
   "cell_type": "code",
   "execution_count": 10,
   "id": "34bab44d",
   "metadata": {},
   "outputs": [],
   "source": [
    "def get_ni(i, nij): # integrate gamma_e (1/gamma_e) nij\n",
    "    ni = 0\n",
    "    for j in range(1, 400):\n",
    "        sum_i = (gamma_e_arr[j] - gamma_e_arr[j-1]) / gamma_e_arr[j] * nij[i][j]\n",
    "        ni += sum_i\n",
    "    return ni"
   ]
  },
  {
   "cell_type": "code",
   "execution_count": 11,
   "id": "228bb997",
   "metadata": {},
   "outputs": [],
   "source": [
    "#t_arr = [1e8, 5e8, 1e9, 5e9, 1e10, 5e10, 1e11, 5e11, 1e12, 5e12, 1e13]\n",
    "t_arr = [1e8, 1e9, 1e10, 1e11, 1e12, 1e13] # To save time, I cut it short\n",
    "t_num = len(t_arr)"
   ]
  },
  {
   "cell_type": "code",
   "execution_count": 12,
   "id": "5fb115f8",
   "metadata": {},
   "outputs": [],
   "source": [
    "Omega_x = np.logspace(-8,0, 400).reshape(400, 1)"
   ]
  },
  {
   "cell_type": "code",
   "execution_count": null,
   "id": "a562a632",
   "metadata": {},
   "outputs": [],
   "source": [
    "time_start = time.time()\n",
    "\n",
    "nij = np.zeros((t_num, 400, 400))\n",
    "\n",
    "for k in range(t_num):\n",
    "    print(f'time {k} {t_arr[k]:.1e}', end = ' ')\n",
    "    \n",
    "    for j in range(1, 400):\n",
    "        M_expm = np.zeros((400, 400, 400))\n",
    "        for jp in range(j, 399):\n",
    "            theta_rms = np.sqrt(prefix_sums[j] - prefix_sums[jp+1])\n",
    "            M_expm[jp] = scipy.linalg.expm(theta_rms**2/4 * M)\n",
    "            \n",
    "        for i in range(400):\n",
    "            nij[k][i][j-1] = get_nij(i, j, t_arr[k], M_expm)\n",
    "    print('t = ', (time.time() - time_start) / 60)"
   ]
  },
  {
   "cell_type": "code",
   "execution_count": null,
   "id": "208842b8",
   "metadata": {},
   "outputs": [],
   "source": [
    "np.save(\"nij.npy\", nij)"
   ]
  },
  {
   "cell_type": "code",
   "execution_count": null,
   "id": "12a8d218",
   "metadata": {},
   "outputs": [],
   "source": [
    "nij = np.load(\"nij.npy\")"
   ]
  },
  {
   "cell_type": "code",
   "execution_count": null,
   "id": "1793812f",
   "metadata": {},
   "outputs": [],
   "source": [
    "ni = np.zeros((t_num, 400)) # about theta\n",
    "for k in range(t_num):\n",
    "    for i in range(400):\n",
    "        ni[k][i] = get_ni(i, nij[k])"
   ]
  },
  {
   "cell_type": "code",
   "execution_count": null,
   "id": "05e0cc93",
   "metadata": {},
   "outputs": [],
   "source": [
    "deriv_array = np.zeros((400,t_num-1))\n",
    "for j in range(399):\n",
    "    for jp in range(j,399):\n",
    "        if j==jp:\n",
    "            tr = 0.\n",
    "        else:\n",
    "            tr = np.arccosh(theta_e_arr[jp]/theta_e_arr[j])\n",
    "        deriv_array[j,:] += 2 * theta_e_arr[j] * (ni[:,jp+1]-ni[:,jp])/(theta_e_arr[jp+1]-theta_e_arr[jp])\\\n",
    "            * (np.arccosh(theta_e_arr[jp+1]/theta_e_arr[j]) - tr)"
   ]
  },
  {
   "cell_type": "code",
   "execution_count": null,
   "id": "5ad377b5",
   "metadata": {},
   "outputs": [],
   "source": [
    "fig, axs = plt.subplots(1, 2, figsize=(14, 7))\n",
    "\n",
    "# First subplot\n",
    "ax1 = axs[0]\n",
    "ax1.set_xlabel(r'$\\theta$ [radians]')\n",
    "ax1.set_ylabel(r'$n<1/\\gamma>P(\\Omega) [cm^{-3} sr^{-1}]$')\n",
    "ax1.grid(True)\n",
    "\n",
    "colors = ['#a06000', '#20a000', '#00a0a0', '#0000ee', '#ff00ff']\n",
    "labels = [\"12\", \"11\", \"10\", \"9\", \"8\"]\n",
    "columns = [4, 3, 2, 1, 0]\n",
    "\n",
    "for color, label, column in zip(colors, labels, columns):\n",
    "    ax1.plot(theta_e_arr, ni[column], color=color, label=label)\n",
    "\n",
    "ax1.legend()\n",
    "ax1.set_xscale('log')\n",
    "ax1.set_yscale('log')\n",
    "ax1.set_xlim([1e-8, 1e-3])\n",
    "ax1.set_ylim([1e-32, 1e-12])\n",
    "\n",
    "# Second subplot\n",
    "ax2 = axs[1]\n",
    "ax2.set_xlabel(r'$\\Omega_x$ [radians]')\n",
    "ax2.set_ylabel(r'$-d[n<1/\\gamma>P(\\Omega_x)]/d\\Omega_x [cm^{-3} rad^{-2}]$')\n",
    "ax2.grid(True)\n",
    "\n",
    "for color, label, column in zip(colors, labels, columns):\n",
    "    ax2.plot(Omega_x, -deriv_array[:, column], color=color, label=label)\n",
    "\n",
    "ax2.legend()\n",
    "ax2.set_xscale('log')\n",
    "ax2.set_yscale('log')\n",
    "ax2.set_xlim([1e-8, 1e-3])\n",
    "ax2.set_ylim([1e-32, 1e-12])\n",
    "\n",
    "# Show the plot\n",
    "plt.show()"
   ]
  }
 ],
 "metadata": {
  "kernelspec": {
   "display_name": "Python 3 (ipykernel)",
   "language": "python",
   "name": "python3"
  },
  "language_info": {
   "codemirror_mode": {
    "name": "ipython",
    "version": 3
   },
   "file_extension": ".py",
   "mimetype": "text/x-python",
   "name": "python",
   "nbconvert_exporter": "python",
   "pygments_lexer": "ipython3",
   "version": "3.9.12"
  }
 },
 "nbformat": 4,
 "nbformat_minor": 5
}
