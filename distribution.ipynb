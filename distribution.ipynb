{
 "cells": [
  {
   "cell_type": "code",
   "execution_count": 6,
   "id": "d926e907",
   "metadata": {},
   "outputs": [],
   "source": [
    "import numpy as np\n",
    "import matplotlib.pyplot as plt\n",
    "import pickle as pkl\n",
    "\n",
    "r0 = 2.818e-13 # classical electron radius in cm\n",
    "m_e = 9.10938e-28 # electron mass in gram\n",
    "c = 2.998e10 # speed of light in cm/s\n",
    "h = 6.6261e-27 # planck constant in cm^2 g s-1\n",
    "eV_to_erg = 1.6022e-12\n",
    "parsec_to_cm = 3.085677581e18 # cm per parsec\n",
    "\n",
    "z = 2\n",
    "z2 = (1 + z) / 3"
   ]
  },
  {
   "cell_type": "code",
   "execution_count": 7,
   "id": "dbecc75e",
   "metadata": {},
   "outputs": [],
   "source": [
    "with open('rate.pkl', 'rb') as f:\n",
    "    rata_arr = pkl.load(f)\n",
    "    \n",
    "rate_arr = np.array(rata_arr)\n",
    "rate_arr = rate_arr.reshape(400,400) # [i][j]: gamma[i] theta[j], rate_arr[-1] = nan\n",
    "rate_trans = np.transpose(rate_arr) # [i][j]: theta[i] gamma[j], rate_trans[i][-1] = nan\n",
    "\n",
    "gamma_e_arr = np.logspace(8, 14, 400) * eV_to_erg / m_e / c**2 # lab-frame Lorentz factor of the electron produced\n",
    "theta_e_arr = np.logspace(-8,0, 400)"
   ]
  },
  {
   "cell_type": "code",
   "execution_count": 180,
   "id": "991e0648",
   "metadata": {},
   "outputs": [],
   "source": [
    "t = 1e11"
   ]
  },
  {
   "cell_type": "code",
   "execution_count": 181,
   "id": "2c5b12c1",
   "metadata": {},
   "outputs": [],
   "source": [
    "def get_nij(i, j): # nij = dN / (dV dgammae_j dOmegae_i)\n",
    "    gamma6 = gamma_e_arr[j] / 1e6\n",
    "    Gamma_IC = 1.1e-12 * z2**4 * gamma6\n",
    "    \n",
    "    gamma_max = 1 / (Gamma_IC * (1 / Gamma_IC / gamma_e_arr[j] - t))\n",
    "    if gamma_max < 0:\n",
    "        gamma_max = float('inf')\n",
    "    \n",
    "    \n",
    "    nij = 0\n",
    "    for jp in range(j, 399):\n",
    "        if gamma_e_arr[jp] <= gamma_max:\n",
    "            sum_ij = (gamma_e_arr[jp] - gamma_e_arr[jp-1]) * rate_trans[i][jp]\n",
    "            nij += sum_ij\n",
    "    nij = nij / (Gamma_IC * gamma_e_arr[j]**2)\n",
    "    return nij"
   ]
  },
  {
   "cell_type": "code",
   "execution_count": 182,
   "id": "41af7d1d",
   "metadata": {},
   "outputs": [],
   "source": [
    "nij = np.zeros((400, 400)) # theta[i] gamma[j]\n",
    "for i in range(400):\n",
    "    for j in range(1, 400):\n",
    "        nij[i][j-1] = get_nij(i, j)"
   ]
  },
  {
   "cell_type": "code",
   "execution_count": 183,
   "id": "67446546",
   "metadata": {},
   "outputs": [],
   "source": [
    "def get_ni(i): # integrate gamma_e (1/gamma_e) nij\n",
    "    ni = 0\n",
    "    for j in range(1, 400):\n",
    "        sum_i = (gamma_e_arr[j] - gamma_e_arr[j-1]) / gamma_e_arr[j] * nij[i][j]\n",
    "        ni += sum_i\n",
    "    return ni"
   ]
  },
  {
   "cell_type": "code",
   "execution_count": 184,
   "id": "4fe1296a",
   "metadata": {},
   "outputs": [],
   "source": [
    "ni = np.zeros((400, 1)) # about theta\n",
    "for i in range(400):\n",
    "    ni[i] = get_ni(i)"
   ]
  },
  {
   "cell_type": "code",
   "execution_count": 185,
   "id": "3499bca9",
   "metadata": {},
   "outputs": [],
   "source": [
    "Omega_x = np.logspace(-8,0, 400).reshape(400, 1)"
   ]
  },
  {
   "cell_type": "code",
   "execution_count": 186,
   "id": "e6932810",
   "metadata": {},
   "outputs": [],
   "source": [
    "Px = np.zeros((400, 1))\n",
    "for i in range(400): # Omega_x\n",
    "    for j in range(1, 400): # theta\n",
    "        if theta_e_arr[j-1] > Omega_x[i]:\n",
    "            sum_ij = ni[j-1] * (np.sqrt(theta_e_arr[j]**2 - Omega_x[i]**2) - np.sqrt(theta_e_arr[j-1]**2 - Omega_x[i]**2))\n",
    "            Px[i] += sum_ij"
   ]
  },
  {
   "cell_type": "code",
   "execution_count": 190,
   "id": "02e977e4",
   "metadata": {},
   "outputs": [
    {
     "data": {
      "image/png": "[encoded data removed]",
      "text/plain": [
       "<Figure size 576x432 with 1 Axes>"
      ]
     },
     "metadata": {
      "needs_background": "light"
     },
     "output_type": "display_data"
    }
   ],
   "source": [
    "fig = plt.figure(figsize=(8, 6))\n",
    "plt.plot(Omega_x[:-2], Px[:-2])\n",
    "#plt.xlim([1e-8, 1e-7])\n",
    "plt.xscale('log')\n",
    "plt.yscale('log')\n",
    "plt.xlabel('$\\mathrm{\\Omega_x}$', fontsize = 14)\n",
    "plt.ylabel('$\\mathrm{n_b\\ <1/\\gamma>\\ P(\\Omega_x)}$', fontsize = 14)\n",
    "plt.show()"
   ]
  },
  {
   "cell_type": "code",
   "execution_count": 188,
   "id": "c46a0ff6",
   "metadata": {},
   "outputs": [
    {
     "name": "stdout",
     "output_type": "stream",
     "text": [
      "(400, 1)\n",
      "(400, 1)\n",
      "(399, 1)\n",
      "(array([6]), array([0])) [2.5523992e-12]\n",
      "[1.31916996e-08]\n",
      "[-2.5523992e-12]\n"
     ]
    }
   ],
   "source": [
    "Omega_x = Omega_x.reshape(400, 1)\n",
    "slop = (Px[1:] - Px[:-1]) / (Omega_x[1:] - Omega_x[:-1])\n",
    "print(Px.shape)\n",
    "print(Omega_x.shape)\n",
    "print(slop.shape)\n",
    "print(np.where(abs(slop) == max(abs(slop))), max(abs(slop)))\n",
    "print(Omega_x[6])\n",
    "print(min(slop))"
   ]
  },
  {
   "cell_type": "code",
   "execution_count": null,
   "id": "082c65f5",
   "metadata": {},
   "outputs": [],
   "source": []
  }
 ],
 "metadata": {
  "kernelspec": {
   "display_name": "Python 3 (ipykernel)",
   "language": "python",
   "name": "python3"
  },
  "language_info": {
   "codemirror_mode": {
    "name": "ipython",
    "version": 3
   },
   "file_extension": ".py",
   "mimetype": "text/x-python",
   "name": "python",
   "nbconvert_exporter": "python",
   "pygments_lexer": "ipython3",
   "version": "3.9.12"
  }
 },
 "nbformat": 4,
 "nbformat_minor": 5
}
