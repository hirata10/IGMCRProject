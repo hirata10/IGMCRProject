{
 "cells": [
  {
   "cell_type": "code",
   "execution_count": 1,
   "id": "cd820e93",
   "metadata": {},
   "outputs": [],
   "source": [
    "import numpy as np\n",
    "import matplotlib.pyplot as plt\n",
    "import pickle as pkl\n",
    "from astropy.io import fits\n",
    "import scipy.sparse\n",
    "import scipy.linalg\n",
    "\n",
    "r0 = 2.818e-13 # classical electron radius in cm\n",
    "m_e = 9.10938e-28 # electron mass in gram\n",
    "c = 2.998e10 # speed of light in cm/s\n",
    "h = 6.6261e-27 # planck constant in cm^2 g s-1\n",
    "eV_to_erg = 1.6022e-12\n",
    "parsec_to_cm = 3.085677581e18 # cm per parsec\n",
    "\n",
    "k = 1.3808e-16 # boltzmann constant in cm^2 g s^-2 K^-1\n",
    "T_CMB = 2.725 # CMB temperature today in K\n",
    "\n",
    "H_0 = 2.184e-18 # current hubble constant in s^-1\n",
    "H_r = 3.24076e-18 # 100 km/s/Mpc to 1/s\n",
    "h_0 = H_0 / H_r\n",
    "omega_b_0 = 0.0224 / h_0 / h_0  # current baryon abundance\n",
    "m_p = 1.67262193269e-24 # proton mass in g\n",
    "G = 6.6743e-8 # gravitational constant in cm^3 g^-1 s^-2\n",
    "f_He = 0.079 # helium mass fraction\n",
    "f_H = 0.76 # hydrogen fraction\n",
    "Y_He = 0.24\n",
    "\n",
    "E_e = m_e * c * c\n",
    "rho_crit = 3 * H_0 * H_0 / 8 / np.pi / G\n",
    "e = 2.718281828459 # base of natural log\n",
    "\n",
    "z = 2\n",
    "z2 = (1 + z) / 3"
   ]
  },
  {
   "cell_type": "code",
   "execution_count": 2,
   "id": "3c66f6c4",
   "metadata": {},
   "outputs": [],
   "source": [
    "with open('rate_10Mpc.pkl', 'rb') as f:\n",
    "    rata_arr = pkl.load(f)\n",
    "    \n",
    "rate_arr = np.array(rata_arr)\n",
    "rate_arr = rate_arr.reshape(400,400) # [i][j]: gamma[i] theta[j], rate_arr[-1] = nan\n",
    "rate_trans = np.transpose(rate_arr) # [i][j]: theta[i] gamma[j], rate_trans[i][-1] = nan\n",
    "\n",
    "gamma_e_arr = np.logspace(8, 14, 400) * eV_to_erg / m_e / c**2 # lab-frame Lorentz factor of the electron produced\n",
    "theta_e_arr = np.logspace(-8,0, 400)"
   ]
  },
  {
   "cell_type": "code",
   "execution_count": 3,
   "id": "e28b0ce4",
   "metadata": {},
   "outputs": [],
   "source": [
    "def compton_f(x):\n",
    "    if x > 1e-2:\n",
    "        return ((-24 - 144*x - 290*x**2 - 194*x**3 + 20*x**4 + 28*x**5) / 3 / x**2 / (1+2*x)**3 + (4+4*x-x**2) / x**3 * np.log(1+2*x))\n",
    "    return 8/5*x**2 - 32/5*x**3 + 2248/105*x**4 - 1376/21*x**5 + 11840/63*x**6\n",
    "\n",
    "def compton_FF(x):\n",
    "    n = 1024\n",
    "    y = np.linspace(x / (2 * n), x - x / (2 * n), n)\n",
    "    result = 0.\n",
    "    for i in range(n): result += compton_f(y[i]) * y[i]\n",
    "    result *= x / n\n",
    "    return result"
   ]
  },
  {
   "cell_type": "code",
   "execution_count": 4,
   "id": "7254d367",
   "metadata": {},
   "outputs": [
    {
     "name": "stderr",
     "output_type": "stream",
     "text": [
      "/var/folders/k2/qxng019s7y17hp_kgkzy9b180000gn/T/ipykernel_45131/3605387613.py:9: RuntimeWarning: overflow encountered in expm1\n",
      "  Bnu = 2 * h * nu**3 / c**2 / np.expm1(xx) ### it gives RuntimeWarning: overflow encountered in expm1, is it ok?\n"
     ]
    }
   ],
   "source": [
    "jtable = np.loadtxt('EBL_KS18_Q20_z_ 2.0.txt')\n",
    "nstep = np.shape(jtable)[0] - 1\n",
    "jtable[:,0] = 2.99792458e18 / jtable[:,0] # convert to Hz\n",
    "nu = (jtable[:-1,0] + jtable[1:,0]) / 2\n",
    "dnu = (jtable[:-1,0] - jtable[1:,0])\n",
    "JnuEBL = (jtable[:-1,1] + jtable[1:,1]) / 2\n",
    "\n",
    "xx = h*nu/k/T_CMB\n",
    "Bnu = 2 * h * nu**3 / c**2 / np.expm1(xx) ### it gives RuntimeWarning: overflow encountered in expm1, is it ok?\n",
    "Jnu = JnuEBL + Bnu"
   ]
  },
  {
   "cell_type": "code",
   "execution_count": 5,
   "id": "a567514c",
   "metadata": {},
   "outputs": [],
   "source": [
    "def sumsq(jp, j): # theta_rms from gamma_jp to gamma_j\n",
    "    sumsq = 0\n",
    "    for i in range(jp, j-1, -1):\n",
    "        all_int = 0\n",
    "        factors = Bnu / nu**3 * dnu\n",
    "        for k in range(nstep):\n",
    "            all_int += compton_FF(2 * gamma_e_arr[i] * h * nu[k] / m_e / c**2) * factors[k]\n",
    "            \n",
    "        tp2 = 135 * m_e * c**2 / 128 / np.pi**4 / gamma_e_arr[i]**3 * (m_e * c**2 / k / T_CMB)**4 * all_int\n",
    "        sumi = tp2 / (m_e * c * gamma_e_arr[i])**2 * np.log(gamma_e_arr[1] / gamma_e_arr[0])\n",
    "        sumsq += sumi\n",
    "        \n",
    "    return sumsq**.5"
   ]
  },
  {
   "cell_type": "code",
   "execution_count": 6,
   "id": "adc1e851",
   "metadata": {},
   "outputs": [],
   "source": [
    "def calculate_solid_angles(theta):\n",
    "    # theta_half[i] = theta[i-1/2]\n",
    "    theta_half = (theta[1:] + theta[:-1]) / 2\n",
    "    theta_half = np.concatenate([[theta[0]/2], theta_half, [3*theta[-1]/2 - theta[-2]/2]])\n",
    "\n",
    "    Omega = 2 * np.pi * (theta_half[2:]**2 - theta_half[:-2]**2) / 2  # solid angles of annulus\n",
    "    Omega = np.concatenate([Omega, [2 * np.pi * (theta[-1]**2 - theta_half[-2]**2)]])  # add the last circle\n",
    "\n",
    "    return Omega, theta_half"
   ]
  },
  {
   "cell_type": "code",
   "execution_count": 7,
   "id": "b3242d20",
   "metadata": {},
   "outputs": [],
   "source": [
    "Omega, theta_half = calculate_solid_angles(theta_e_arr)"
   ]
  },
  {
   "cell_type": "code",
   "execution_count": 8,
   "id": "f63cddc0",
   "metadata": {},
   "outputs": [],
   "source": [
    "### I'm not sure if the tau=1 smoothed Fourier transform looks right, when I apply it, it seems to give me nan\n",
    "\n",
    "def smoothed_Fourier_transform(f, tau = 1):\n",
    "    # compute the Fourier transform\n",
    "    F = np.fft.fft(f)\n",
    "    \n",
    "    # define the Gaussian window function\n",
    "    n = len(f)\n",
    "    t = np.arange(n)\n",
    "    window = np.exp(-0.5 * ((t - n/2) / tau)**2)\n",
    "    \n",
    "    # apply the smoothing operation using the Gaussian window\n",
    "    F1 = F*window\n",
    "    # take the inverse Fourier Transform to obtain the smoothed Fourier Transform\n",
    "    F1 = np.fft.ifft(F1)\n",
    "    \n",
    "    return F1"
   ]
  },
  {
   "cell_type": "markdown",
   "id": "c0d133c6",
   "metadata": {},
   "source": [
    "This is my thinking of building M matrix, but I'm not sure if it looks right as you say we don't need to calculate\n",
    "f1 explicitly\n",
    "\n",
    "1: $\\sum_{i=0}^{x-1} \\sum_j \\Omega[i]M[i,j]f_1[j] = Y[x-1]$\n",
    "\n",
    "2: $\\sum_{i=0}^x \\sum_j \\Omega[i]M[i,j]f_1[j] = Y[x]$\n",
    "\n",
    "2-1: $\\sum_j \\Omega[x]M[x,j]f_1[j] = Y[x] - Y[x-1]$\n",
    "\n",
    "$\\Omega[x]$ isn't depend on j, so can be taken out, then\n",
    "\n",
    "$\\sum_jM[x,j]f_1[j] = (Y[x]-Y[x-1])/\\Omega[x]$\n",
    "\n",
    "$\\sum_jM[x,j]f_1[j] = dot(f_1, M[x].T) = dot(M[x], f_1.T)$"
   ]
  },
  {
   "cell_type": "code",
   "execution_count": 9,
   "id": "4ce73b87",
   "metadata": {},
   "outputs": [],
   "source": [
    "def build_M(f, theta, Omega, theta_half):\n",
    "    N = len(f)\n",
    "    M = np.zeros((N, N))\n",
    "    Y = np.zeros((N, )) # the right-hand-side of the sum for each imax\n",
    "    \n",
    "    f1 = smoothed_Fourier_transform(f)\n",
    "    #print('f1', f1)\n",
    "    \n",
    "    for i in range(1, N): # i = imax, imax is [1, N]\n",
    "        Y[i] = -2 * np.pi * theta_half[i] * (f1[i] - f1[i-1]) / (theta[i] - theta[i-1])\n",
    "        \n",
    "    for i in range(1, N):\n",
    "        rhs = (Y[i] - Y[i-1]) / Omega[i]\n",
    "        M[i] = (rhs / f1 / N).reshape(1, N)\n",
    "    \n",
    "    for j in range(N):\n",
    "        sum_OM = 0\n",
    "        for i in range(1, N):\n",
    "            sum_OM += Omega[i] * M[i][j]\n",
    "        M[0][j] = -sum_OM / Omega[0] # sum_i Omega[i]*M[i][j] = 0 for all j\n",
    "    \n",
    "    return M"
   ]
  },
  {
   "cell_type": "markdown",
   "id": "e3ee7b64",
   "metadata": {},
   "source": [
    "$n_{ij}(t) = 1/(\\Gamma_{IC,0}\\ \\gamma_j^2) ∑_{j’=j}^{j’_{max}} ∆gamma_{j’} ∑_{i’} [exp(theta_{rms, j’->j}^2/4*M)]_{ii’} S_{i’j’}$\n",
    "\n",
    "But I think I understand something wrong when build get_nij function, because by doing this, both f1 and M give me\n",
    "all nan values"
   ]
  },
  {
   "cell_type": "code",
   "execution_count": 10,
   "id": "1b52b346",
   "metadata": {},
   "outputs": [],
   "source": [
    "def get_nij(i, j, t): # nij = dN / (dV dgammae_j dOmegae_i)\n",
    "    Gamma_IC0 = 1.1e-18 * z2**4\n",
    "    gamma_max_inv = 1. / gamma_e_arr[j] - Gamma_IC0 * t\n",
    "    if gamma_max_inv>1e-99:\n",
    "        gamma_max = 1./gamma_max_inv\n",
    "    else:\n",
    "        gamma_max = 1e99\n",
    "        \n",
    "    nij = 0\n",
    "    \n",
    "    for jp in range(j, 399):\n",
    "        if gamma_e_arr[jp] <= gamma_max:\n",
    "            theta_rms = sumsq(jp, j)\n",
    "            M = build_M(rate_trans[i], theta_e_arr, Omega, theta_half)\n",
    "            print(M)\n",
    "            M_expm = scipy.linalg.expm(theta_rms**2/4 * M)\n",
    "            sum_MS = np.dot(M[i], rate_trans[:, jp])\n",
    "                \n",
    "            sum_ij = (gamma_e_arr[jp] - gamma_e_arr[jp-1]) * sum_MS\n",
    "            \n",
    "            if gamma_e_arr[jp+1] > gamma_max:\n",
    "                fraction = (gamma_max - gamma_e_arr[jp]) / (gamma_e_arr[jp+1] - gamma_e_arr[jp])\n",
    "                sum_ij = sum_ij * fraction\n",
    "                if i==0 and j%50==25: print(t, j, jp, fraction)\n",
    "            nij += sum_ij\n",
    "    nij = nij / (Gamma_IC0 * gamma_e_arr[j]**2)\n",
    "    return nij"
   ]
  },
  {
   "cell_type": "code",
   "execution_count": 11,
   "id": "6b6a1ca2",
   "metadata": {},
   "outputs": [],
   "source": [
    "t_arr = [1e8, 5e8, 1e9, 5e9, 1e10, 5e10, 1e11, 5e11, 1e12, 5e12, 1e13]\n",
    "t_num = len(t_arr)"
   ]
  },
  {
   "cell_type": "code",
   "execution_count": 12,
   "id": "86f08590",
   "metadata": {},
   "outputs": [
    {
     "name": "stdout",
     "output_type": "stream",
     "text": [
      "time 0 100000000.0\n"
     ]
    },
    {
     "name": "stderr",
     "output_type": "stream",
     "text": [
      "/var/folders/k2/qxng019s7y17hp_kgkzy9b180000gn/T/ipykernel_45131/2048202193.py:10: ComplexWarning: Casting complex values to real discards the imaginary part\n",
      "  Y[i] = -2 * np.pi * theta_half[i] * (f1[i] - f1[i-1]) / (theta[i] - theta[i-1])\n",
      "/var/folders/k2/qxng019s7y17hp_kgkzy9b180000gn/T/ipykernel_45131/2048202193.py:14: ComplexWarning: Casting complex values to real discards the imaginary part\n",
      "  M[i] = (rhs / f1 / N).reshape(1, N)\n"
     ]
    },
    {
     "name": "stdout",
     "output_type": "stream",
     "text": [
      "[[nan nan nan ... nan nan nan]\n",
      " [nan nan nan ... nan nan nan]\n",
      " [nan nan nan ... nan nan nan]\n",
      " ...\n",
      " [nan nan nan ... nan nan nan]\n",
      " [nan nan nan ... nan nan nan]\n",
      " [nan nan nan ... nan nan nan]]\n"
     ]
    },
    {
     "ename": "ValueError",
     "evalue": "cannot convert float NaN to integer",
     "output_type": "error",
     "traceback": [
      "\u001b[0;31m---------------------------------------------------------------------------\u001b[0m",
      "\u001b[0;31mValueError\u001b[0m                                Traceback (most recent call last)",
      "Input \u001b[0;32mIn [12]\u001b[0m, in \u001b[0;36m<cell line: 2>\u001b[0;34m()\u001b[0m\n\u001b[1;32m      4\u001b[0m \u001b[38;5;28;01mfor\u001b[39;00m i \u001b[38;5;129;01min\u001b[39;00m \u001b[38;5;28mrange\u001b[39m(\u001b[38;5;241m400\u001b[39m):\n\u001b[1;32m      5\u001b[0m     \u001b[38;5;28;01mfor\u001b[39;00m j \u001b[38;5;129;01min\u001b[39;00m \u001b[38;5;28mrange\u001b[39m(\u001b[38;5;241m1\u001b[39m, \u001b[38;5;241m400\u001b[39m):\n\u001b[0;32m----> 6\u001b[0m         nij[k][i][j\u001b[38;5;241m-\u001b[39m\u001b[38;5;241m1\u001b[39m] \u001b[38;5;241m=\u001b[39m \u001b[43mget_nij\u001b[49m\u001b[43m(\u001b[49m\u001b[43mi\u001b[49m\u001b[43m,\u001b[49m\u001b[43m \u001b[49m\u001b[43mj\u001b[49m\u001b[43m,\u001b[49m\u001b[43m \u001b[49m\u001b[43mt_arr\u001b[49m\u001b[43m[\u001b[49m\u001b[43mk\u001b[49m\u001b[43m]\u001b[49m\u001b[43m)\u001b[49m\n",
      "Input \u001b[0;32mIn [10]\u001b[0m, in \u001b[0;36mget_nij\u001b[0;34m(i, j, t)\u001b[0m\n\u001b[1;32m     14\u001b[0m M \u001b[38;5;241m=\u001b[39m build_M(rate_trans[i], theta_e_arr, Omega, theta_half)\n\u001b[1;32m     15\u001b[0m \u001b[38;5;28mprint\u001b[39m(M)\n\u001b[0;32m---> 16\u001b[0m M_expm \u001b[38;5;241m=\u001b[39m \u001b[43mscipy\u001b[49m\u001b[38;5;241;43m.\u001b[39;49m\u001b[43mlinalg\u001b[49m\u001b[38;5;241;43m.\u001b[39;49m\u001b[43mexpm\u001b[49m\u001b[43m(\u001b[49m\u001b[43mtheta_rms\u001b[49m\u001b[38;5;241;43m*\u001b[39;49m\u001b[38;5;241;43m*\u001b[39;49m\u001b[38;5;241;43m2\u001b[39;49m\u001b[38;5;241;43m/\u001b[39;49m\u001b[38;5;241;43m4\u001b[39;49m\u001b[43m \u001b[49m\u001b[38;5;241;43m*\u001b[39;49m\u001b[43m \u001b[49m\u001b[43mM\u001b[49m\u001b[43m)\u001b[49m\n\u001b[1;32m     17\u001b[0m sum_MS \u001b[38;5;241m=\u001b[39m np\u001b[38;5;241m.\u001b[39mdot(M[i], rate_trans[:, jp])\n\u001b[1;32m     19\u001b[0m sum_ij \u001b[38;5;241m=\u001b[39m (gamma_e_arr[jp] \u001b[38;5;241m-\u001b[39m gamma_e_arr[jp\u001b[38;5;241m-\u001b[39m\u001b[38;5;241m1\u001b[39m]) \u001b[38;5;241m*\u001b[39m sum_MS\n",
      "File \u001b[0;32m~/opt/anaconda3/lib/python3.9/site-packages/scipy/linalg/matfuncs.py:255\u001b[0m, in \u001b[0;36mexpm\u001b[0;34m(A)\u001b[0m\n\u001b[1;32m    253\u001b[0m \u001b[38;5;66;03m# Input checking and conversion is provided by sparse.linalg.expm().\u001b[39;00m\n\u001b[1;32m    254\u001b[0m \u001b[38;5;28;01mimport\u001b[39;00m \u001b[38;5;21;01mscipy\u001b[39;00m\u001b[38;5;21;01m.\u001b[39;00m\u001b[38;5;21;01msparse\u001b[39;00m\u001b[38;5;21;01m.\u001b[39;00m\u001b[38;5;21;01mlinalg\u001b[39;00m\n\u001b[0;32m--> 255\u001b[0m \u001b[38;5;28;01mreturn\u001b[39;00m \u001b[43mscipy\u001b[49m\u001b[38;5;241;43m.\u001b[39;49m\u001b[43msparse\u001b[49m\u001b[38;5;241;43m.\u001b[39;49m\u001b[43mlinalg\u001b[49m\u001b[38;5;241;43m.\u001b[39;49m\u001b[43mexpm\u001b[49m\u001b[43m(\u001b[49m\u001b[43mA\u001b[49m\u001b[43m)\u001b[49m\n",
      "File \u001b[0;32m~/opt/anaconda3/lib/python3.9/site-packages/scipy/sparse/linalg/matfuncs.py:591\u001b[0m, in \u001b[0;36mexpm\u001b[0;34m(A)\u001b[0m\n\u001b[1;32m    546\u001b[0m \u001b[38;5;28;01mdef\u001b[39;00m \u001b[38;5;21mexpm\u001b[39m(A):\n\u001b[1;32m    547\u001b[0m     \u001b[38;5;124;03m\"\"\"\u001b[39;00m\n\u001b[1;32m    548\u001b[0m \u001b[38;5;124;03m    Compute the matrix exponential using Pade approximation.\u001b[39;00m\n\u001b[1;32m    549\u001b[0m \n\u001b[0;32m   (...)\u001b[0m\n\u001b[1;32m    589\u001b[0m \u001b[38;5;124;03m            [  0.        ,   0.        ,  20.08553692]])\u001b[39;00m\n\u001b[1;32m    590\u001b[0m \u001b[38;5;124;03m    \"\"\"\u001b[39;00m\n\u001b[0;32m--> 591\u001b[0m     \u001b[38;5;28;01mreturn\u001b[39;00m \u001b[43m_expm\u001b[49m\u001b[43m(\u001b[49m\u001b[43mA\u001b[49m\u001b[43m,\u001b[49m\u001b[43m \u001b[49m\u001b[43muse_exact_onenorm\u001b[49m\u001b[38;5;241;43m=\u001b[39;49m\u001b[38;5;124;43m'\u001b[39;49m\u001b[38;5;124;43mauto\u001b[39;49m\u001b[38;5;124;43m'\u001b[39;49m\u001b[43m)\u001b[49m\n",
      "File \u001b[0;32m~/opt/anaconda3/lib/python3.9/site-packages/scipy/sparse/linalg/matfuncs.py:670\u001b[0m, in \u001b[0;36m_expm\u001b[0;34m(A, use_exact_onenorm)\u001b[0m\n\u001b[1;32m    668\u001b[0m     s \u001b[38;5;241m=\u001b[39m \u001b[38;5;241m0\u001b[39m\n\u001b[1;32m    669\u001b[0m \u001b[38;5;28;01melse\u001b[39;00m:\n\u001b[0;32m--> 670\u001b[0m     s \u001b[38;5;241m=\u001b[39m \u001b[38;5;28mmax\u001b[39m(\u001b[38;5;28;43mint\u001b[39;49m\u001b[43m(\u001b[49m\u001b[43mnp\u001b[49m\u001b[38;5;241;43m.\u001b[39;49m\u001b[43mceil\u001b[49m\u001b[43m(\u001b[49m\u001b[43mnp\u001b[49m\u001b[38;5;241;43m.\u001b[39;49m\u001b[43mlog2\u001b[49m\u001b[43m(\u001b[49m\u001b[43meta_5\u001b[49m\u001b[43m \u001b[49m\u001b[38;5;241;43m/\u001b[39;49m\u001b[43m \u001b[49m\u001b[43mtheta_13\u001b[49m\u001b[43m)\u001b[49m\u001b[43m)\u001b[49m\u001b[43m)\u001b[49m, \u001b[38;5;241m0\u001b[39m)\n\u001b[1;32m    671\u001b[0m s \u001b[38;5;241m=\u001b[39m s \u001b[38;5;241m+\u001b[39m _ell(\u001b[38;5;241m2\u001b[39m\u001b[38;5;241m*\u001b[39m\u001b[38;5;241m*\u001b[39m\u001b[38;5;241m-\u001b[39ms \u001b[38;5;241m*\u001b[39m h\u001b[38;5;241m.\u001b[39mA, \u001b[38;5;241m13\u001b[39m)\n\u001b[1;32m    672\u001b[0m U, V \u001b[38;5;241m=\u001b[39m h\u001b[38;5;241m.\u001b[39mpade13_scaled(s)\n",
      "\u001b[0;31mValueError\u001b[0m: cannot convert float NaN to integer"
     ]
    }
   ],
   "source": [
    "nij = np.zeros((t_num, 400, 400)) # t theta[i] gamma[j]\n",
    "for k in range(t_num):\n",
    "    print('time', k, t_arr[k])\n",
    "    for i in range(400):\n",
    "        for j in range(1, 400):\n",
    "            nij[k][i][j-1] = get_nij(i, j, t_arr[k])"
   ]
  },
  {
   "cell_type": "code",
   "execution_count": null,
   "id": "5cdff795",
   "metadata": {},
   "outputs": [],
   "source": []
  }
 ],
 "metadata": {
  "kernelspec": {
   "display_name": "Python 3 (ipykernel)",
   "language": "python",
   "name": "python3"
  },
  "language_info": {
   "codemirror_mode": {
    "name": "ipython",
    "version": 3
   },
   "file_extension": ".py",
   "mimetype": "text/x-python",
   "name": "python",
   "nbconvert_exporter": "python",
   "pygments_lexer": "ipython3",
   "version": "3.9.12"
  }
 },
 "nbformat": 4,
 "nbformat_minor": 5
}
