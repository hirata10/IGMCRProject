{
 "cells": [
  {
   "cell_type": "code",
   "execution_count": 1,
   "id": "6675e73a",
   "metadata": {},
   "outputs": [],
   "source": [
    "import numpy as np\n",
    "import pandas as pd\n",
    "import matplotlib.pyplot as plt\n",
    "import bisect\n",
    "import seaborn as sns\n",
    "import LCDMSphere\n",
    "import Energy_loss_class\n",
    "import Source_class\n",
    "import IGM\n",
    "\n",
    "r0 = 2.818e-13 # classical electron radius in cm\n",
    "m_e = 9.10938e-28 # electron mass in gram\n",
    "c = 2.998e10 # speed of light in cm/s\n",
    "h = 6.6261e-27 # planck constant in cm^2 g s-1\n",
    "k = 1.3808e-16 # boltzmann constant in cm^2 g s^-2 K^-1\n",
    "T_CMB = 2.725 # CMB temperature today in K\n",
    "\n",
    "H_0 = 2.184e-18 # current hubble constant in s^-1\n",
    "H_r = 3.24076e-18 # 100 km/s/Mpc to 1/s\n",
    "h_0 = H_0 / H_r\n",
    "omega_b_0 = 0.0224 / h_0 / h_0  # current baryon abundance\n",
    "m_p = 1.67262193269e-24 # proton mass in g\n",
    "G = 6.6743e-8 # gravitational constant in cm^3 g^-1 s^-2\n",
    "f_He = 0.079 # helium mass fraction\n",
    "f_H = 0.76 # hydrogen fraction\n",
    "Y_He = 0.24\n",
    "\n",
    "E_e = m_e * c * c\n",
    "rho_crit = 3 * H_0 * H_0 / 8 / np.pi / G\n",
    "\n",
    "z_reion_He = 3 # redshift that He is fully ionized\n",
    "z_reion_H = 8 # redshift that H is fully ionized"
   ]
  },
  {
   "cell_type": "code",
   "execution_count": 2,
   "id": "e9c815be",
   "metadata": {},
   "outputs": [],
   "source": [
    "IGM_00 = IGM.IGM_N(0, 0)\n",
    "N, P, P_eV = IGM_00.get_P()"
   ]
  },
  {
   "cell_type": "code",
   "execution_count": 3,
   "id": "0fa9c2b0",
   "metadata": {},
   "outputs": [],
   "source": [
    "def get_rate(z_assume, k):\n",
    "    index_z = np.where(IGM_00.z > z_assume)[-1][-1]\n",
    "    z = IGM_00.z[index_z]\n",
    "    #print('z', z)\n",
    "    omega_b = omega_b_0 * (1 + z)**3\n",
    "    mean_n_b = 3 * omega_b * H_0 * H_0 / (8 * np.pi * G * m_p) # mean number density of baryons at the redshift\n",
    "    n_b = mean_n_b * IGM_00.Delta[index_z] # local number density of baryons at the redshitf\n",
    "    \n",
    "    n_H = n_b * (1 - Y_He) # nuclei in hydrogen\n",
    "    n_He = n_H * f_He # nuclei in helium, assume He is all 4He\n",
    "\n",
    "    if z <= z_reion_He: # fully ionized\n",
    "        n_e = n_H + 2 * n_He\n",
    "    if z_reion_He < z <= z_reion_H: # He is singly ionized\n",
    "        n_e = n_H + n_He\n",
    "    if z > z_reion_H: # neutral\n",
    "        n_e = 0\n",
    "    \n",
    "    omega_p = (4 * np.pi * r0 * n_e)**0.5 * c\n",
    "    #print(omega_p/c)\n",
    "    E_min = E_e * ((1 - omega_p**2 / c**2 / k**2)**(-0.5) - 1)\n",
    "    #print('E_min', E_min)\n",
    "    \n",
    "    n_e_th = n_e\n",
    "    co1 = -np.pi / 4 * omega_p * (omega_p / c / k)**3 * E_e / n_e_th\n",
    "    \n",
    "    if E_min < min(IGM.E):\n",
    "        index_E1 = 0\n",
    "    else:\n",
    "        index_E1 = np.where(IGM.E < E_min)[-1][-1]\n",
    "    index_E2 = np.where(IGM.E > E_min)[0][0]\n",
    "    N_Emin = (N[index_E2][index_z] - N[index_E1][index_z]) * E_min + N[index_E1][index_z]\n",
    "    \n",
    "    int_NEdE = N_Emin * (E_min - IGM.E[index_E1]) / np.sqrt(E_min * (E_min + 2 * E_e))\n",
    "    for i in range(index_E2, IGM.mstep):\n",
    "        E = IGM.E[i]\n",
    "        if i == index_E2:\n",
    "            NEdE = N[i][index_z] * (E - E_min) / np.sqrt(E * (E + 2 * E_e))\n",
    "        else:\n",
    "            NEdE = N[i][index_z] * (E - IGM.E[i - 1]) / np.sqrt(E * (E + 2 * E_e))\n",
    "        int_NEdE += NEdE\n",
    "        \n",
    "    co2 = (E_min + E_e) * N_Emin / np.sqrt(E_min * (E_min + 2 * E_e)) + 2 * int_NEdE\n",
    "    \n",
    "    if c * k / omega_p - 1 <= 0:\n",
    "        co3 = 0\n",
    "    else:\n",
    "        co3 = 1\n",
    "        \n",
    "    return co1 * co2 * co3"
   ]
  },
  {
   "cell_type": "code",
   "execution_count": 4,
   "id": "ac56f8dd",
   "metadata": {},
   "outputs": [],
   "source": [
    "z = 2\n",
    "k = 4.6636558181324425e-09 * np.linspace(1.1,4,30)\n",
    "rate = np.zeros((len(k), ))\n",
    "for i in range(len(k)):\n",
    "    rate[i] = get_rate(z, k[i])"
   ]
  },
  {
   "cell_type": "code",
   "execution_count": 5,
   "id": "c0e7b328",
   "metadata": {},
   "outputs": [
    {
     "data": {
      "image/png": "[encoded data removed]",
      "text/plain": [
       "<Figure size 432x288 with 1 Axes>"
      ]
     },
     "metadata": {
      "needs_background": "light"
     },
     "output_type": "display_data"
    }
   ],
   "source": [
    "plt.plot(k/4.6636558181324425e-09, rate, '.')\n",
    "plt.title('Growth rate', fontsize = 14)\n",
    "plt.xlabel('ck/$\\omega_{\\mathrm{p}}$', fontsize = 14)\n",
    "plt.ylabel('$\\Im \\omega |_{\\mathrm{iso}}\\ (\\mathrm{s^{-1}})$', fontsize = 14)\n",
    "plt.savefig('growth_rate.pdf')\n",
    "plt.show()"
   ]
  },
  {
   "cell_type": "code",
   "execution_count": null,
   "id": "3e4ce907",
   "metadata": {},
   "outputs": [],
   "source": []
  }
 ],
 "metadata": {
  "kernelspec": {
   "display_name": "Python 3 (ipykernel)",
   "language": "python",
   "name": "python3"
  },
  "language_info": {
   "codemirror_mode": {
    "name": "ipython",
    "version": 3
   },
   "file_extension": ".py",
   "mimetype": "text/x-python",
   "name": "python",
   "nbconvert_exporter": "python",
   "pygments_lexer": "ipython3",
   "version": "3.9.12"
  }
 },
 "nbformat": 4,
 "nbformat_minor": 5
}
