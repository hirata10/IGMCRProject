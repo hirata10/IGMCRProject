{
 "cells": [
  {
   "cell_type": "code",
   "execution_count": 6,
   "id": "d926e907",
   "metadata": {},
   "outputs": [],
   "source": [
    "import numpy as np\n",
    "import matplotlib.pyplot as plt\n",
    "import pickle as pkl\n",
    "\n",
    "r0 = 2.818e-13 # classical electron radius in cm\n",
    "m_e = 9.10938e-28 # electron mass in gram\n",
    "c = 2.998e10 # speed of light in cm/s\n",
    "h = 6.6261e-27 # planck constant in cm^2 g s-1\n",
    "eV_to_erg = 1.6022e-12\n",
    "parsec_to_cm = 3.085677581e18 # cm per parsec\n",
    "\n",
    "z = 2\n",
    "z2 = (1 + z) / 3"
   ]
  },
  {
   "cell_type": "code",
   "execution_count": 7,
   "id": "dbecc75e",
   "metadata": {},
   "outputs": [],
   "source": [
    "with open('rate.pkl', 'rb') as f:\n",
    "    rata_arr = pkl.load(f)\n",
    "    \n",
    "rate_arr = np.array(rata_arr)\n",
    "rate_arr = rate_arr.reshape(400,400) # [i][j]: gamma[i] theta[j], rate_arr[-1] = nan\n",
    "rate_trans = np.transpose(rate_arr) # [i][j]: theta[i] gamma[j], rate_trans[i][-1] = nan\n",
    "\n",
    "gamma_e_arr = np.logspace(8, 14, 400) * eV_to_erg / m_e / c**2 # lab-frame Lorentz factor of the electron produced\n",
    "theta_e_arr = np.logspace(-8,0, 400)"
   ]
  },
  {
   "cell_type": "code",
   "execution_count": 130,
   "id": "262f2655",
   "metadata": {},
   "outputs": [],
   "source": [
    "t = 1e11"
   ]
  },
  {
   "cell_type": "code",
   "execution_count": 140,
   "id": "631c3183",
   "metadata": {},
   "outputs": [],
   "source": [
    "def get_nij(i, j): # nij = dN / (dV dgammae_j dOmegae_i)\n",
    "    gamma6 = gamma_e_arr[j] / 1e6\n",
    "    Gamma_IC = 1.1e-12 * z2**4 * gamma6\n",
    "    \n",
    "    #gamma_max = 1 / (Gamma_IC * (1 / Gamma_IC / gamma_e_arr[j] - t))\n",
    "    #if gamma_max < 0:\n",
    "    #    gamma_max = float('inf')\n",
    "    \n",
    "    \n",
    "    nij = 0\n",
    "    for jp in range(j, 399):\n",
    "        if gamma_e_arr[jp] <= float('inf'):\n",
    "            sum_ij = (gamma_e_arr[jp] - gamma_e_arr[jp-1]) * rate_trans[i][jp]\n",
    "            nij += sum_ij\n",
    "    nij = nij / (Gamma_IC * gamma_e_arr[j]**2)\n",
    "    return nij"
   ]
  },
  {
   "cell_type": "code",
   "execution_count": 141,
   "id": "a001fc0d",
   "metadata": {},
   "outputs": [],
   "source": [
    "nij = np.zeros((400, 400)) # theta[i] gamma[j]\n",
    "for i in range(400):\n",
    "    for j in range(400):\n",
    "        nij[i][j] = get_nij(i, j)"
   ]
  },
  {
   "cell_type": "code",
   "execution_count": 142,
   "id": "0b4fb009",
   "metadata": {},
   "outputs": [],
   "source": [
    "def get_ni(i): # integrate gamma_e (1/gamma_e) nij\n",
    "    ni = 0\n",
    "    for j in range(1, 400):\n",
    "        sum_i = (gamma_e_arr[j] - gamma_e_arr[j-1]) / gamma_e_arr[j] * n[i][j]\n",
    "        ni += sum_i\n",
    "    return ni"
   ]
  },
  {
   "cell_type": "code",
   "execution_count": 143,
   "id": "3ba42b0d",
   "metadata": {},
   "outputs": [],
   "source": [
    "ni = np.zeros((400, 1)) # about theta\n",
    "for i in range(400):\n",
    "    ni[i] = get_ni(i)"
   ]
  },
  {
   "cell_type": "code",
   "execution_count": 144,
   "id": "2ecf64c7",
   "metadata": {},
   "outputs": [],
   "source": [
    "Omega_x = np.logspace(-8,0, 400)"
   ]
  },
  {
   "cell_type": "code",
   "execution_count": 145,
   "id": "c9aecadc",
   "metadata": {},
   "outputs": [],
   "source": [
    "Px = np.zeros((400, 1))\n",
    "for i in range(400): # Omega_x\n",
    "    for j in range(1, 400): # theta\n",
    "        if theta_e_arr[j-1] > Omega_x[i]:\n",
    "            sum_ij = ni[j-1] * (np.sqrt(theta_e_arr[j]**2 - Omega_x[i]**2) - np.sqrt(theta_e_arr[j-1]**2 - Omega_x[i]**2))\n",
    "            Px[i] += sum_ij"
   ]
  },
  {
   "cell_type": "code",
   "execution_count": 129,
   "id": "43c22dcf",
   "metadata": {},
   "outputs": [
    {
     "name": "stdout",
     "output_type": "stream",
     "text": [
      "[3.97330591e-16] [8.55466252e-41] 3.7306523532617514e-17\n"
     ]
    }
   ],
   "source": [
    "print(max(Px), min(Px[:-2]), np.mean(Px[:-2]))"
   ]
  },
  {
   "cell_type": "code",
   "execution_count": 137,
   "id": "8523e9d7",
   "metadata": {},
   "outputs": [
    {
     "name": "stdout",
     "output_type": "stream",
     "text": [
      "[3.97330591e-16] [8.55466252e-41] 3.7306523532617514e-17\n"
     ]
    }
   ],
   "source": [
    "print(max(Px), min(Px[:-2]), np.mean(Px[:-2]))"
   ]
  },
  {
   "cell_type": "code",
   "execution_count": 146,
   "id": "9d0cfd24",
   "metadata": {},
   "outputs": [
    {
     "name": "stdout",
     "output_type": "stream",
     "text": [
      "[3.97330591e-16] [8.55466252e-41] 3.7306523532617514e-17\n"
     ]
    }
   ],
   "source": [
    "print(max(Px), min(Px[:-2]), np.mean(Px[:-2]))"
   ]
  },
  {
   "cell_type": "code",
   "execution_count": 127,
   "id": "6cf7be18",
   "metadata": {},
   "outputs": [
    {
     "data": {
      "image/png": "[encoded data removed]",
      "text/plain": [
       "<Figure size 576x432 with 1 Axes>"
      ]
     },
     "metadata": {
      "needs_background": "light"
     },
     "output_type": "display_data"
    }
   ],
   "source": [
    "fig = plt.figure(figsize=(8, 6))\n",
    "plt.plot(Omega_x[:-2], Px[:-2], '.')\n",
    "plt.xlim([1e-8, 1e-7])\n",
    "#plt.xscale('log')\n",
    "#plt.yscale('log')\n",
    "plt.xlabel('$\\mathrm{\\Omega_x}$', fontsize = 14)\n",
    "plt.ylabel('$\\mathrm{n_b\\ <1/\\gamma>\\ P(\\Omega_x)}$', fontsize = 14)\n",
    "plt.show()"
   ]
  },
  {
   "cell_type": "code",
   "execution_count": 123,
   "id": "a9e77f4c",
   "metadata": {},
   "outputs": [
    {
     "name": "stdout",
     "output_type": "stream",
     "text": [
      "(400, 1)\n",
      "(400, 1)\n",
      "(399, 1)\n",
      "(array([6]), array([0])) [8.42840865e-09]\n",
      "[1.31916996e-08]\n",
      "[-8.42840865e-09]\n"
     ]
    }
   ],
   "source": [
    "Omega_x = Omega_x.reshape(400, 1)\n",
    "slop = (Px[1:] - Px[:-1]) / (Omega_x[1:] - Omega_x[:-1])\n",
    "print(Px.shape)\n",
    "print(Omega_x.shape)\n",
    "print(slop.shape)\n",
    "print(np.where(abs(slop) == max(abs(slop))), max(abs(slop)))\n",
    "print(Omega_x[6])\n",
    "print(min(slop))"
   ]
  },
  {
   "cell_type": "code",
   "execution_count": null,
   "id": "1f7f9f3b",
   "metadata": {},
   "outputs": [],
   "source": []
  },
  {
   "cell_type": "code",
   "execution_count": null,
   "id": "9af08fe5",
   "metadata": {},
   "outputs": [],
   "source": []
  },
  {
   "cell_type": "code",
   "execution_count": null,
   "id": "2cc367e2",
   "metadata": {},
   "outputs": [],
   "source": [
    "# to make sure: gamma6 = gamma_e / 1e6\n",
    "# problem: what is t"
   ]
  },
  {
   "cell_type": "code",
   "execution_count": 4,
   "id": "bd2f0e01",
   "metadata": {},
   "outputs": [],
   "source": [
    "t_arr = np.logspace(0, 12, 400) # time in s\n",
    "\n",
    "z2 = (1 + z) / 3\n",
    "gamma6 = gamma_e_arr / 1e6 # Lorentz factor of the pairs in units of 10^6\n",
    "Gamma_IC = 1.1e-12 * z2**4 * gamma6 # cooling rate by IC, unit: s^-1"
   ]
  },
  {
   "cell_type": "code",
   "execution_count": 5,
   "id": "1736b61e",
   "metadata": {},
   "outputs": [],
   "source": [
    "gamma_e_final = []\n",
    "Delta_t = []\n",
    "\n",
    "for i in range(400): # get gamma_e_final for corresponding gamma_e_ini\n",
    "    Dt = t_arr[i] - t_arr[i-1] if i != 0 else t_arr[0]\n",
    "    Delta_t.append(Dt)\n",
    "    gamma_e_final_i = 1 / (1 / gamma_e_arr[i] - Gamma_IC[i] * Dt)\n",
    "    gamma_e_final.append(gamma_e_final_i)"
   ]
  },
  {
   "cell_type": "code",
   "execution_count": 6,
   "id": "4e98026d",
   "metadata": {},
   "outputs": [],
   "source": [
    "rate_trans = np.transpose(rate_arr) # [i][j]: theta[i] gamma[j]\n",
    "\n",
    "dN_dV_dgammaef_domega = [] # array of theta\n",
    "\n",
    "for i in range(400):\n",
    "    dNi = 0\n",
    "    for j in range(399):\n",
    "        dei_def = (gamma_e_arr[j+1] - gamma_e_arr[j]) / (gamma_e_final[j+1] - gamma_e_final[j])\n",
    "        dNij = rate_trans[i][j] * dei_def * (Delta_t[j+1] - Delta_t[j])\n",
    "        dNi += dNij\n",
    "    dN_dV_dgammaef_domega.append(dNi)"
   ]
  },
  {
   "cell_type": "code",
   "execution_count": 10,
   "id": "b58bd7cd",
   "metadata": {},
   "outputs": [
    {
     "data": {
      "image/png": "[encoded data removed]",
      "text/plain": [
       "<Figure size 432x288 with 1 Axes>"
      ]
     },
     "metadata": {
      "needs_background": "light"
     },
     "output_type": "display_data"
    }
   ],
   "source": [
    "plt.plot(theta_e_arr, dN_dV_dgammaef_domega, '.')\n",
    "plt.xscale('log')\n",
    "plt.xlabel('$\\Theta_e$', fontsize = 14)\n",
    "plt.show()"
   ]
  },
  {
   "cell_type": "code",
   "execution_count": null,
   "id": "dc68571b",
   "metadata": {},
   "outputs": [],
   "source": []
  },
  {
   "cell_type": "code",
   "execution_count": null,
   "id": "3331559f",
   "metadata": {},
   "outputs": [],
   "source": [
    "# problem:\n",
    "\n",
    "# I think we should have a fixed array omega_x shape (step, )\n",
    "# for each omega_x[i], it should have omega_y[i] shape (400, ) corresponding to omega_e shape (400, )\n",
    "# we then can get P(omega_x[i]) by integrating y[i], and P(omega_x) should have size (step, )\n",
    "\n",
    "# omega_x = np.logspace(-8, 0, step)\n",
    "# for example, omega_e[0] = 3.14e-16"
   ]
  },
  {
   "cell_type": "code",
   "execution_count": 52,
   "id": "e025c026",
   "metadata": {},
   "outputs": [
    {
     "name": "stdout",
     "output_type": "stream",
     "text": [
      "[1.00000000e-08 1.04724941e-08 1.09673133e-08 1.14855124e-08\n",
      " 1.20281961e-08 1.25965213e-08 1.31916996e-08 1.38149996e-08\n",
      " 1.44677502e-08 1.51513429e-08 1.58672350e-08 1.66169525e-08\n",
      " 1.74020937e-08 1.82243324e-08 1.90854214e-08 1.99871964e-08\n",
      " 2.09315797e-08 2.19205845e-08 2.29563192e-08 2.40409918e-08\n",
      " 2.51769146e-08 2.63665090e-08 2.76123110e-08 2.89169765e-08\n",
      " 3.02832867e-08 3.17141542e-08 3.32126293e-08 3.47819065e-08\n",
      " 3.64253312e-08 3.81464066e-08 3.99488019e-08 4.18363594e-08\n",
      " 4.38131027e-08 4.58832461e-08 4.80512025e-08 5.03215936e-08\n",
      " 5.26992593e-08 5.51892683e-08 5.77969288e-08 6.05277998e-08\n",
      " 6.33877027e-08 6.63827344e-08 6.95192796e-08 7.28040247e-08\n",
      " 7.62439721e-08 7.98464550e-08 8.36191530e-08 8.75701089e-08\n",
      " 9.17077451e-08 9.60408821e-08 1.00578757e-07 1.05331045e-07\n",
      " 1.10307874e-07 1.15519857e-07 1.20978102e-07 1.26694246e-07\n",
      " 1.32680475e-07 1.38949549e-07 1.45514834e-07 1.52390324e-07\n",
      " 1.59590678e-07 1.67131243e-07 1.75028096e-07 1.83298071e-07\n",
      " 1.91958797e-07 2.01028738e-07 2.10527227e-07 2.20474515e-07\n",
      " 2.30891806e-07 2.41801308e-07 2.53226278e-07 2.65191071e-07\n",
      " 2.77721193e-07 2.90843356e-07 3.04585534e-07 3.18977022e-07\n",
      " 3.34048498e-07 3.49832094e-07 3.66361454e-07 3.83671818e-07\n",
      " 4.01800086e-07 4.20784904e-07 4.40666743e-07 4.61487988e-07\n",
      " 4.83293024e-07 5.06128335e-07 5.30042602e-07 5.55086803e-07\n",
      " 5.81314328e-07 6.08781089e-07 6.37545637e-07 6.67669294e-07\n",
      " 6.99216276e-07 7.32253834e-07 7.66852397e-07 8.03085722e-07\n",
      " 8.41031051e-07 8.80769273e-07 9.22385104e-07 9.65967258e-07\n",
      " 1.01160864e-06 1.05940656e-06 1.10946289e-06 1.16188436e-06\n",
      " 1.21678272e-06 1.27427499e-06 1.33448373e-06 1.39753730e-06\n",
      " 1.46357012e-06 1.53272295e-06 1.60514320e-06 1.68098528e-06\n",
      " 1.76041084e-06 1.84358922e-06 1.93069773e-06 2.02192206e-06\n",
      " 2.11745669e-06 2.21750528e-06 2.32228110e-06 2.43200751e-06\n",
      " 2.54691844e-06 2.66725884e-06 2.79328525e-06 2.92526634e-06\n",
      " 3.06348345e-06 3.20823125e-06 3.35981829e-06 3.51856773e-06\n",
      " 3.68481798e-06 3.85892347e-06 4.04125533e-06 4.23220227e-06\n",
      " 4.43217134e-06 4.64158883e-06 4.86090118e-06 5.09057590e-06\n",
      " 5.33110262e-06 5.58299409e-06 5.84678728e-06 6.12304454e-06\n",
      " 6.41235480e-06 6.71533479e-06 7.03263041e-06 7.36491807e-06\n",
      " 7.71290612e-06 8.07733640e-06 8.45898580e-06 8.85866790e-06\n",
      " 9.27723476e-06 9.71557865e-06 1.01746340e-05 1.06553795e-05\n",
      " 1.11588399e-05 1.16860886e-05 1.22382494e-05 1.28164995e-05\n",
      " 1.34220715e-05 1.40562565e-05 1.47204064e-05 1.54159369e-05\n",
      " 1.61443309e-05 1.69071410e-05 1.77059935e-05 1.85425913e-05\n",
      " 1.94187178e-05 2.03362408e-05 2.12971163e-05 2.23033925e-05\n",
      " 2.33572147e-05 2.44608294e-05 2.56165892e-05 2.68269580e-05\n",
      " 2.80945159e-05 2.94219653e-05 3.08121359e-05 3.22679912e-05\n",
      " 3.37926348e-05 3.53893170e-05 3.70614414e-05 3.88125727e-05\n",
      " 4.06464440e-05 4.25669645e-05 4.45782286e-05 4.66845237e-05\n",
      " 4.88903400e-05 5.12003798e-05 5.36195677e-05 5.61530608e-05\n",
      " 5.88062599e-05 6.15848211e-05 6.44946677e-05 6.75420029e-05\n",
      " 7.07333228e-05 7.40754307e-05 7.75754513e-05 8.12408458e-05\n",
      " 8.50794280e-05 8.90993810e-05 9.33092744e-05 9.77180827e-05\n",
      " 1.02335205e-04 1.07170483e-04 1.12234225e-04 1.17537227e-04\n",
      " 1.23090791e-04 1.28906759e-04 1.34997528e-04 1.41376081e-04\n",
      " 1.48056018e-04 1.55051578e-04 1.62377674e-04 1.70049924e-04\n",
      " 1.78084683e-04 1.86499079e-04 1.95311051e-04 2.04539383e-04\n",
      " 2.14203749e-04 2.24324750e-04 2.34923963e-04 2.46023982e-04\n",
      " 2.57648471e-04 2.69822209e-04 2.82571150e-04 2.95922471e-04\n",
      " 3.09904634e-04 3.24547446e-04 3.39882122e-04 3.55941352e-04\n",
      " 3.72759372e-04 3.90372033e-04 4.08816882e-04 4.28133240e-04\n",
      " 4.48362284e-04 4.69547138e-04 4.91732965e-04 5.14967058e-04\n",
      " 5.39298949e-04 5.64780507e-04 5.91466054e-04 6.19412478e-04\n",
      " 6.48679353e-04 6.79329072e-04 7.11426971e-04 7.45041477e-04\n",
      " 7.80244249e-04 8.17110332e-04 8.55718314e-04 8.96150502e-04\n",
      " 9.38493086e-04 9.82836333e-04 1.02927477e-03 1.07790740e-03\n",
      " 1.12883789e-03 1.18217482e-03 1.23803188e-03 1.29652816e-03\n",
      " 1.35778836e-03 1.42194306e-03 1.48912903e-03 1.55948950e-03\n",
      " 1.63317447e-03 1.71034100e-03 1.79115361e-03 1.87578456e-03\n",
      " 1.96441428e-03 2.05723170e-03 2.15443469e-03 2.25623046e-03\n",
      " 2.36283603e-03 2.47447864e-03 2.59139630e-03 2.71383825e-03\n",
      " 2.84206552e-03 2.97635144e-03 3.11698230e-03 3.26425788e-03\n",
      " 3.41849215e-03 3.58001389e-03 3.74916744e-03 3.92631340e-03\n",
      " 4.11182940e-03 4.30611093e-03 4.50957214e-03 4.72264677e-03\n",
      " 4.94578905e-03 5.17947468e-03 5.42420181e-03 5.68049216e-03\n",
      " 5.94889208e-03 6.22997373e-03 6.52433633e-03 6.83260739e-03\n",
      " 7.15544407e-03 7.49353460e-03 7.84759970e-03 8.21839418e-03\n",
      " 8.60670847e-03 9.01337039e-03 9.43924684e-03 9.88524571e-03\n",
      " 1.03523178e-02 1.08414587e-02 1.13537112e-02 1.18901674e-02\n",
      " 1.24519708e-02 1.30403192e-02 1.36564666e-02 1.43017266e-02\n",
      " 1.49774748e-02 1.56851516e-02 1.64262658e-02 1.72023972e-02\n",
      " 1.80152004e-02 1.88664080e-02 1.97578347e-02 2.06913808e-02\n",
      " 2.16690364e-02 2.26928856e-02 2.37651111e-02 2.48879987e-02\n",
      " 2.60639420e-02 2.72954479e-02 2.85851418e-02 2.99357729e-02\n",
      " 3.13502206e-02 3.28315001e-02 3.43827692e-02 3.60073348e-02\n",
      " 3.77086603e-02 3.94903723e-02 4.13562692e-02 4.33103286e-02\n",
      " 4.53567162e-02 4.74997943e-02 4.97441317e-02 5.20945127e-02\n",
      " 5.45559478e-02 5.71336843e-02 5.98332173e-02 6.26603016e-02\n",
      " 6.56209641e-02 6.87215161e-02 7.19685673e-02 7.53690398e-02\n",
      " 7.89301826e-02 8.26595874e-02 8.65652043e-02 9.06553593e-02\n",
      " 9.49387718e-02 9.94245730e-02 1.04122326e-01 1.09042044e-01\n",
      " 1.14194217e-01 1.19589826e-01 1.25240375e-01 1.31157910e-01\n",
      " 1.37355044e-01 1.43844989e-01 1.50641580e-01 1.57759306e-01\n",
      " 1.65213341e-01 1.73019574e-01 1.81194647e-01 1.89755988e-01\n",
      " 1.98721847e-01 2.08111337e-01 2.17944475e-01 2.28242224e-01\n",
      " 2.39026535e-01 2.50320398e-01 2.62147890e-01 2.74534223e-01\n",
      " 2.87505804e-01 3.01090284e-01 3.15316623e-01 3.30215148e-01\n",
      " 3.45817620e-01 3.62157300e-01 3.79269019e-01 3.97189257e-01\n",
      " 4.15956216e-01 4.35609903e-01 4.56192215e-01 4.77747029e-01\n",
      " 5.00320295e-01 5.23960135e-01 5.48716944e-01 5.74643497e-01\n",
      " 6.01795064e-01 6.30229527e-01 6.60007502e-01 6.91192469e-01\n",
      " 7.23850907e-01 7.58052437e-01 7.93869969e-01 8.31379858e-01\n",
      " 8.70662068e-01 9.11800339e-01 9.54882369e-01 1.00000000e+00]\n"
     ]
    }
   ],
   "source": [
    "print(theta_e_arr)"
   ]
  },
  {
   "cell_type": "code",
   "execution_count": 50,
   "id": "898179ce",
   "metadata": {},
   "outputs": [],
   "source": [
    "Omega_e = 2 * np.pi * 2 * np.sin(theta_e_arr/2)**2"
   ]
  },
  {
   "cell_type": "code",
   "execution_count": 51,
   "id": "c09df979",
   "metadata": {},
   "outputs": [
    {
     "name": "stdout",
     "output_type": "stream",
     "text": [
      "[3.14159265e-16 3.44548309e-16 3.77876926e-16 4.14429464e-16\n",
      " 4.54517778e-16 4.98483888e-16 5.46702899e-16 5.99586198e-16\n",
      " 6.57584969e-16 7.21194039e-16 7.90956099e-16 8.67466335e-16\n",
      " 9.51377509e-16 1.04340552e-15 1.14433553e-15 1.25502863e-15\n",
      " 1.37642922e-15 1.50957305e-15 1.65559606e-15 1.81574407e-15\n",
      " 1.99138341e-15 2.18401258e-15 2.39527503e-15 2.62697317e-15\n",
      " 2.88108378e-15 3.15977485e-15 3.46542408e-15 3.80063917e-15\n",
      " 4.16828005e-15 4.57148333e-15 5.01368900e-15 5.49866982e-15\n",
      " 6.03056347e-15 6.61390791e-15 7.25368002e-15 7.95533815e-15\n",
      " 8.72486860e-15 9.56883676e-15 1.04944431e-14 1.15095845e-14\n",
      " 1.26229220e-14 1.38439540e-14 1.51830981e-14 1.66517794e-14\n",
      " 1.82625282e-14 2.00290869e-14 2.19665271e-14 2.40913786e-14\n",
      " 2.64217697e-14 2.89775827e-14 3.17806228e-14 3.48548048e-14\n",
      " 3.82263565e-14 4.19240428e-14 4.59794113e-14 5.04270610e-14\n",
      " 5.53049377e-14 6.06546580e-14 6.65218638e-14 7.29566123e-14\n",
      " 8.00138026e-14 8.77536442e-14 9.62421711e-14 1.05551804e-13\n",
      " 1.15761971e-13 1.26959781e-13 1.39240769e-13 1.52709714e-13\n",
      " 1.67481528e-13 1.83682240e-13 2.01450067e-13 2.20936600e-13\n",
      " 2.42308092e-13 2.65746876e-13 2.91452926e-13 3.19645555e-13\n",
      " 3.50565295e-13 3.84475943e-13 4.21666813e-13 4.62455205e-13\n",
      " 5.07189113e-13 5.56250191e-13 6.10057013e-13 6.69068640e-13\n",
      " 7.33788541e-13 8.04768883e-13 8.82615249e-13 9.67991797e-13\n",
      " 1.06162693e-12 1.16431952e-12 1.27694570e-12 1.40046635e-12\n",
      " 1.53593533e-12 1.68450840e-12 1.84745314e-12 2.02615974e-12\n",
      " 2.22215287e-12 2.43710468e-12 2.67284906e-12 2.93139731e-12\n",
      " 3.21495527e-12 3.52594218e-12 3.86701126e-12 4.24107241e-12\n",
      " 4.65131699e-12 5.10124507e-12 5.59469530e-12 6.13587763e-12\n",
      " 6.72940924e-12 7.38035396e-12 8.09426543e-12 8.87723450e-12\n",
      " 9.73594121e-12 1.06777118e-11 1.17105810e-11 1.28433611e-11\n",
      " 1.40857166e-11 1.54482467e-11 1.69425762e-11 1.85814541e-11\n",
      " 2.03788629e-11 2.23501375e-11 2.45120960e-11 2.68831837e-11\n",
      " 2.94836299e-11 3.23356206e-11 3.54634883e-11 3.88939187e-11\n",
      " 4.26561793e-11 4.67823683e-11 5.13076891e-11 5.62707501e-11\n",
      " 6.17138947e-11 6.76835619e-11 7.42306830e-11 8.14111158e-11\n",
      " 8.92861215e-11 9.79228869e-11 1.07395098e-10 1.17783569e-10\n",
      " 1.29176930e-10 1.41672387e-10 1.55376546e-10 1.70406326e-10\n",
      " 1.86889956e-10 2.04968071e-10 2.24794905e-10 2.46539616e-10\n",
      " 2.70387721e-10 2.96542685e-10 3.25227654e-10 3.56687358e-10\n",
      " 3.91190201e-10 4.29030550e-10 4.70531247e-10 5.16046361e-10\n",
      " 5.65964213e-10 6.20710684e-10 6.80752855e-10 7.46602986e-10\n",
      " 8.18822887e-10 8.98028715e-10 9.84896228e-10 1.08016655e-09\n",
      " 1.18465250e-09 1.29924551e-09 1.42492326e-09 1.56275799e-09\n",
      " 1.71392565e-09 1.87971596e-09 2.06154339e-09 2.26095922e-09\n",
      " 2.47966482e-09 2.71952610e-09 2.98258948e-09 3.27109933e-09\n",
      " 3.58751713e-09 3.93454243e-09 4.31513596e-09 4.73254481e-09\n",
      " 5.19033017e-09 5.69239772e-09 6.24303093e-09 6.84692763e-09\n",
      " 7.50924005e-09 8.23561884e-09 9.03226122e-09 9.90596387e-09\n",
      " 1.08641809e-08 1.19150876e-08 1.30676499e-08 1.43317011e-08\n",
      " 1.57180256e-08 1.72384512e-08 1.89059495e-08 2.07347472e-08\n",
      " 2.27404469e-08 2.49401606e-08 2.73526555e-08 2.99985143e-08\n",
      " 3.29003106e-08 3.60828014e-08 3.95731388e-08 4.34011013e-08\n",
      " 4.75993476e-08 5.22036958e-08 5.72534288e-08 6.27916292e-08\n",
      " 6.88655471e-08 7.55270032e-08 8.28328308e-08 9.08453607e-08\n",
      " 9.96329534e-08 1.09270582e-07 1.19840470e-07 1.31432799e-07\n",
      " 1.44146468e-07 1.58089948e-07 1.73382199e-07 1.90153690e-07\n",
      " 2.08547510e-07 2.28720588e-07 2.50845035e-07 2.75109609e-07\n",
      " 3.01721327e-07 3.30907233e-07 3.62916330e-07 3.98021709e-07\n",
      " 4.36522879e-07 4.78748317e-07 5.25058279e-07 5.75847865e-07\n",
      " 6.31550395e-07 6.92641104e-07 7.59641199e-07 8.33122302e-07\n",
      " 9.13711330e-07 1.00209584e-06 1.09902990e-06 1.20534053e-06\n",
      " 1.32193472e-06 1.44980722e-06 1.59004899e-06 1.74385654e-06\n",
      " 1.91254210e-06 2.09754483e-06 2.30044312e-06 2.52296804e-06\n",
      " 2.76701808e-06 3.03467540e-06 3.32822356e-06 3.65016703e-06\n",
      " 4.00325251e-06 4.39049241e-06 4.81519053e-06 5.28097026e-06\n",
      " 5.79180547e-06 6.35205443e-06 6.96649699e-06 7.64037539e-06\n",
      " 8.37943891e-06 9.18999300e-06 1.00789530e-05 1.10539033e-05\n",
      " 1.21231617e-05 1.32958509e-05 1.45819757e-05 1.59925091e-05\n",
      " 1.75394850e-05 1.92361019e-05 2.10968346e-05 2.31375583e-05\n",
      " 2.53756836e-05 2.78303055e-05 3.05223658e-05 3.34748323e-05\n",
      " 3.67128942e-05 4.02641775e-05 4.41589805e-05 4.84305320e-05\n",
      " 5.31152752e-05 5.82531786e-05 6.38880766e-05 7.00680438e-05\n",
      " 7.68458052e-05 8.42791856e-05 9.24316035e-05 1.01372612e-04\n",
      " 1.11178490e-04 1.21932899e-04 1.33727589e-04 1.46663186e-04\n",
      " 1.60850051e-04 1.76409218e-04 1.93473429e-04 2.12188266e-04\n",
      " 2.32713392e-04 2.55223916e-04 2.79911882e-04 3.06987911e-04\n",
      " 3.36682995e-04 3.69250471e-04 4.04968177e-04 4.44140826e-04\n",
      " 4.87102604e-04 5.34220020e-04 5.85895031e-04 6.42568472e-04\n",
      " 7.04723813e-04 7.72891289e-04 8.47652411e-04 9.29644936e-04\n",
      " 1.01956830e-03 1.11818957e-03 1.22635002e-03 1.34497225e-03\n",
      " 1.47506812e-03 1.61774730e-03 1.77422679e-03 1.94584125e-03\n",
      " 2.13405441e-03 2.34047151e-03 2.56685302e-03 2.81512959e-03\n",
      " 3.08741852e-03 3.38604180e-03 3.71354587e-03 4.07272329e-03\n",
      " 4.46663655e-03 4.89864410e-03 5.37242893e-03 5.89202990e-03\n",
      " 6.46187609e-03 7.08682444e-03 7.77220104e-03 8.52384636e-03\n",
      " 9.34816486e-03 1.02521793e-02 1.12435904e-02 1.23308420e-02\n",
      " 1.35231927e-02 1.48307943e-02 1.62647775e-02 1.78373463e-02\n",
      " 1.95618807e-02 2.14530500e-02 2.35269361e-02 2.58011692e-02\n",
      " 2.82950758e-02 3.10298412e-02 3.40286869e-02 3.73170651e-02\n",
      " 4.09228712e-02 4.48766764e-02 4.92119819e-02 5.39654969e-02\n",
      " 5.91774423e-02 6.48918822e-02 7.11570867e-02 7.80259265e-02\n",
      " 8.55563047e-02 9.38116267e-02 1.02861313e-01 1.12781355e-01\n",
      " 1.23654927e-01 1.35573039e-01 1.48635260e-01 1.62950490e-01\n",
      " 1.78637808e-01 1.95827381e-01 2.14661453e-01 2.35295404e-01\n",
      " 2.57898901e-01 2.82657132e-01 3.09772118e-01 3.39464139e-01\n",
      " 3.71973231e-01 4.07560791e-01 4.46511276e-01 4.89133982e-01\n",
      " 5.35764915e-01 5.86768743e-01 6.42540795e-01 7.03509121e-01\n",
      " 7.70136563e-01 8.42922815e-01 9.22406429e-01 1.00916672e+00\n",
      " 1.10382550e+00 1.20704852e+00 1.31954663e+00 1.44207638e+00\n",
      " 1.57544003e+00 1.72048471e+00 1.87810059e+00 2.04921768e+00\n",
      " 2.23480104e+00 2.43584404e+00 2.65335914e+00 2.88836580e+00]\n"
     ]
    }
   ],
   "source": [
    "print(Omega_e)"
   ]
  },
  {
   "cell_type": "code",
   "execution_count": null,
   "id": "1765f547",
   "metadata": {},
   "outputs": [],
   "source": [
    "Omega_x_100 = np.logspace(0, np.log10(Omega_e[100] + 1), step) - 1 # (step,)"
   ]
  },
  {
   "cell_type": "code",
   "execution_count": null,
   "id": "58b68586",
   "metadata": {},
   "outputs": [],
   "source": [
    "Omega_x = []\n",
    "for i in range(400):\n",
    "    oxi = np.logspace(0, np.log10(Omega_e[i] + 1), step) - 1\n",
    "    Omega_x.append(oxi[:]) # shape(400, step)"
   ]
  },
  {
   "cell_type": "code",
   "execution_count": 35,
   "id": "167775e6",
   "metadata": {},
   "outputs": [],
   "source": [
    "step = 100\n",
    "\n",
    "\n",
    "\n",
    "Omega_x = np.logspace(0, np.log10(Omega_e + 1), step + 4) - 1 # (step, 400)\n",
    "\n",
    "Omega_y = np.zeros((step, 400)) # [i][j]: x[i] e[j]\n",
    "count = 0\n",
    "for i in range(step - 1, -1, -1):\n",
    "    for j in range(400):\n",
    "        if Omega_e[j]**2 - Omega_x[i][j]**2 < 0:\n",
    "            print('i ', i, ', j ', j)\n",
    "            print(Omega_e[j], Omega_x[i][j], Omega_e[j]**2 - Omega_x[i][j]**2)\n",
    "            count += 1\n",
    "            print(count)\n",
    "        else:\n",
    "            Omega_y[i][j] = np.sqrt(Omega_e[j]**2 - Omega_x[i][j]**2)"
   ]
  },
  {
   "cell_type": "code",
   "execution_count": 37,
   "id": "1c5b65d2",
   "metadata": {},
   "outputs": [],
   "source": [
    "P_x = []\n",
    "\n",
    "for i in range(step):\n",
    "    Pxi = 0\n",
    "    for j in range(1, 400):\n",
    "        Pxij = dN_dV_dgammaef_domega[j] / gamma_e_final[j] * (gamma_e_final[j] - gamma_e_final[j - 1]) * (Omega_y[i][j] - Omega_y[i][j-1])\n",
    "        Pxi += Pxij\n",
    "    P_x.append(Pxi)"
   ]
  },
  {
   "cell_type": "code",
   "execution_count": 45,
   "id": "9c7feaef",
   "metadata": {},
   "outputs": [],
   "source": [
    "plt.plot(Omega_x, P_x, '.')\n",
    "plt.xlabel('$\\mathrm{\\Omega_x}$', fontsize = 14)\n",
    "plt.ylabel('$\\mathrm{n_b\\ <1/\\gamma>\\ P(\\Omega_x)}$', fontsize = 14)\n",
    "plt.show()"
   ]
  },
  {
   "cell_type": "code",
   "execution_count": null,
   "id": "89fa5008",
   "metadata": {},
   "outputs": [],
   "source": []
  }
 ],
 "metadata": {
  "kernelspec": {
   "display_name": "Python 3 (ipykernel)",
   "language": "python",
   "name": "python3"
  },
  "language_info": {
   "codemirror_mode": {
    "name": "ipython",
    "version": 3
   },
   "file_extension": ".py",
   "mimetype": "text/x-python",
   "name": "python",
   "nbconvert_exporter": "python",
   "pygments_lexer": "ipython3",
   "version": "3.9.12"
  }
 },
 "nbformat": 4,
 "nbformat_minor": 5
}
