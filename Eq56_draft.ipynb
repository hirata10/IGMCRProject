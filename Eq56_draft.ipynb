{
 "cells": [
  {
   "cell_type": "code",
   "execution_count": 1,
   "id": "101054e3",
   "metadata": {},
   "outputs": [],
   "source": [
    "import numpy as np\n",
    "import matplotlib.pyplot as plt\n",
    "import plotly.graph_objects as go\n",
    "from astropy.io import fits\n",
    "import IGM\n",
    "\n",
    "r0 = 2.818e-13 # classical electron radius in cm\n",
    "m_e = 9.10938e-28 # electron mass in gram\n",
    "c = 2.998e10 # speed of light in cm/s\n",
    "h = 6.6261e-27 # planck constant in cm^2 g s-1\n",
    "eV_to_erg = 1.6022e-12\n",
    "parsec_to_cm = 3.085677581e18 # cm per parsec\n",
    "\n",
    "kB = 1.3808e-16 # boltzmann constant in cm^2 g s^-2 K^-1\n",
    "T_CMB = 2.725 # CMB temperature today in K\n",
    "\n",
    "H_0 = 2.184e-18 # current hubble constant in s^-1, as planck 2018, 67.4 km/s/Mpc\n",
    "H_r = 3.24076e-18 # 100 km/s/Mpc to 1/s\n",
    "h_0 = H_0 / H_r\n",
    "omega_b_0 = 0.0224 / h_0 / h_0  # current baryon abundance\n",
    "m_p = 1.67262193269e-24 # proton mass in g\n",
    "G = 6.6743e-8 # gravitational constant in cm^3 g^-1 s^-2\n",
    "f_He = 0.079 # helium mass fraction\n",
    "f_H = 0.76 # hydrogen fraction\n",
    "Y_He = 0.24\n",
    "\n",
    "E_e = m_e * c * c\n",
    "rho_crit = 3 * H_0 * H_0 / 8 / np.pi / G\n",
    "e = 4.80326e-10 # electron charge in esu\n",
    "\n",
    "z = 2\n",
    "z2 = (1 + z) / 3\n",
    "T_CMB *= 1 + z \n",
    "\n",
    "T_IGM = 10775.81 # IGM temperature at z = 2 in K\n",
    "\n",
    "z_reion_He = 3 # redshift that He is fully ionized\n",
    "z_reion_H = 8 # redshift that H is fully ionized"
   ]
  },
  {
   "cell_type": "code",
   "execution_count": 2,
   "id": "b43a9805",
   "metadata": {},
   "outputs": [],
   "source": [
    "gamma_e_arr = np.logspace(8, 14, 400) * eV_to_erg / m_e / c**2 # lab-frame Lorentz factor of the electron produced\n",
    "theta_e_arr = np.logspace(-8,0, 400)"
   ]
  },
  {
   "cell_type": "code",
   "execution_count": 3,
   "id": "f54210aa",
   "metadata": {},
   "outputs": [
    {
     "name": "stdout",
     "output_type": "stream",
     "text": [
      "(6, 400, 400)\n"
     ]
    }
   ],
   "source": [
    "t_arr = [1e8, 1e9, 1e10, 1e11, 1e12, 1e13]\n",
    "\n",
    "with fits.open('nij.fits') as hdul:\n",
    "    nij = hdul[0].data # shape (t_num, theta, gamma)\n",
    "\n",
    "print(nij.shape)"
   ]
  },
  {
   "cell_type": "code",
   "execution_count": 4,
   "id": "a539bd3e",
   "metadata": {},
   "outputs": [
    {
     "name": "stdout",
     "output_type": "stream",
     "text": [
      "(400,)\n"
     ]
    }
   ],
   "source": [
    "d_gamma_e = np.array([gamma_e_arr[i] - gamma_e_arr[i-1] for i in range(1, 400)])\n",
    "d_gamma_e = np.insert(d_gamma_e, 0, 0)\n",
    "print(d_gamma_e.shape)"
   ]
  },
  {
   "cell_type": "code",
   "execution_count": 5,
   "id": "12d11a02",
   "metadata": {},
   "outputs": [
    {
     "name": "stdout",
     "output_type": "stream",
     "text": [
      "(6, 400)\n"
     ]
    }
   ],
   "source": [
    "n_wt = np.zeros((nij.shape[0], nij.shape[1]))\n",
    "\n",
    "for i in range(nij.shape[0]):\n",
    "    for j in range(nij.shape[1]):\n",
    "        n_wt[i][j] = np.sum(d_gamma_e / gamma_e_arr * nij[i][j])\n",
    "        \n",
    "print(n_wt.shape)"
   ]
  },
  {
   "cell_type": "code",
   "execution_count": 6,
   "id": "e188f9c1",
   "metadata": {},
   "outputs": [],
   "source": [
    "omega_x = np.logspace(-8,-1, 400)"
   ]
  },
  {
   "cell_type": "code",
   "execution_count": 7,
   "id": "24d60cdb",
   "metadata": {},
   "outputs": [],
   "source": [
    "omega_y = np.zeros((len(theta_e_arr), len(omega_x))) #[i] theta, [j] omega_x, theta^2 = omega_x^2 + omega_y^2\n",
    "for i in range(len(theta_e_arr)):\n",
    "    for j in range(len(omega_x)):\n",
    "        if theta_e_arr[i] > omega_x[j]:\n",
    "            omega_y[i][j] = np.sqrt(theta_e_arr[i]**2 - omega_x[j]**2)"
   ]
  },
  {
   "cell_type": "code",
   "execution_count": 8,
   "id": "5cd28252",
   "metadata": {},
   "outputs": [
    {
     "name": "stdout",
     "output_type": "stream",
     "text": [
      "[[0.00000000e+00 0.00000000e+00 0.00000000e+00 ... 0.00000000e+00\n",
      "  0.00000000e+00 0.00000000e+00]\n",
      " [3.11016610e-09 1.12184948e-09 0.00000000e+00 ... 0.00000000e+00\n",
      "  0.00000000e+00 0.00000000e+00]\n",
      " [4.50354986e-09 3.44490558e-09 1.65672413e-09 ... 0.00000000e+00\n",
      "  0.00000000e+00 0.00000000e+00]\n",
      " ...\n",
      " [9.11800339e-01 9.11800339e-01 9.11800339e-01 ... 9.07122878e-01\n",
      "  9.06728188e-01 9.06300093e-01]\n",
      " [9.54882369e-01 9.54882369e-01 9.54882369e-01 ... 9.50416959e-01\n",
      "  9.50040256e-01 9.49631686e-01]\n",
      " [1.00000000e+00 1.00000000e+00 1.00000000e+00 ... 9.95736942e-01\n",
      "  9.95377390e-01 9.94987437e-01]]\n"
     ]
    }
   ],
   "source": [
    "print(omega_y)"
   ]
  },
  {
   "cell_type": "code",
   "execution_count": 10,
   "id": "b439c183",
   "metadata": {},
   "outputs": [],
   "source": [
    "d_omega_y = np.zeros(omega_y.shape)\n",
    "for i in range(omega_y.shape[0]):\n",
    "    d_omega_y_i = np.array([omega_y[i][j] - omega_y[i][j-1] for j in range(1, omega_y.shape[1])])\n",
    "    d_omega_y[i] = np.insert(d_omega_y_i, 0, 0)"
   ]
  },
  {
   "cell_type": "code",
   "execution_count": 11,
   "id": "a78d3481",
   "metadata": {},
   "outputs": [
    {
     "name": "stdout",
     "output_type": "stream",
     "text": [
      "[[ 0.00000000e+00  0.00000000e+00  0.00000000e+00 ...  0.00000000e+00\n",
      "   0.00000000e+00  0.00000000e+00]\n",
      " [ 0.00000000e+00 -1.98831661e-09 -1.12184948e-09 ...  0.00000000e+00\n",
      "   0.00000000e+00  0.00000000e+00]\n",
      " [ 0.00000000e+00 -1.05864428e-09 -1.78818145e-09 ...  0.00000000e+00\n",
      "   0.00000000e+00  0.00000000e+00]\n",
      " ...\n",
      " [ 0.00000000e+00  0.00000000e+00  0.00000000e+00 ... -3.63903660e-04\n",
      "  -3.94689649e-04 -4.28095341e-04]\n",
      " [ 0.00000000e+00  0.00000000e+00  0.00000000e+00 ... -3.47333057e-04\n",
      "  -3.76703161e-04 -4.08569998e-04]\n",
      " [ 0.00000000e+00  0.00000000e+00  0.00000000e+00 ... -3.31529923e-04\n",
      "  -3.59551548e-04 -3.89953113e-04]]\n"
     ]
    }
   ],
   "source": [
    "print(d_omega_y)"
   ]
  },
  {
   "cell_type": "code",
   "execution_count": 12,
   "id": "4257e10d",
   "metadata": {},
   "outputs": [],
   "source": [
    "G_x = np.zeros((len(t_arr), len(theta_e_arr))) # g(omega_x) = int_-int^int theta_wt domega_y?\n",
    "for i in range(len(t_arr)):\n",
    "    for j in range(len(theta_e_arr)):\n",
    "        G_x[i][j] = np.sum(n_wt[i][j] * d_omega_y[j])"
   ]
  },
  {
   "cell_type": "code",
   "execution_count": 13,
   "id": "16e5c6f8",
   "metadata": {},
   "outputs": [
    {
     "name": "stdout",
     "output_type": "stream",
     "text": [
      "[6.16060481e-28 6.16416221e-27 6.19744896e-26 4.72091943e-25\n",
      " 8.99624394e-25 9.10573411e-25]\n"
     ]
    }
   ],
   "source": [
    "G_x_max = np.zeros((len(t_arr), ))\n",
    "for i in range(len(t_arr)):\n",
    "    G_x_max[i] = np.max(np.abs(G_x[i]))\n",
    "    \n",
    "print(G_x_max)"
   ]
  },
  {
   "cell_type": "code",
   "execution_count": null,
   "id": "f906678b",
   "metadata": {},
   "outputs": [],
   "source": [
    "## I use eq2 in https://arxiv.org/pdf/astro-ph/9706219 to calculate Jeans scale, but I have many questions"
   ]
  },
  {
   "cell_type": "code",
   "execution_count": 14,
   "id": "e616b9a7",
   "metadata": {},
   "outputs": [],
   "source": [
    "a_t = 1 / (1 + z)\n",
    "omega_m = 0.315\n",
    "omega_lambda = 1 - 0.315\n",
    "H_2 = H_0 * np.sqrt(omega_m * (1 + z)**3 + omega_lambda)\n",
    "rho_2 = rho_crit * H_2**2 / H_0**2 # is defined as the average mass density of the universe, I use critc density"
   ]
  },
  {
   "cell_type": "code",
   "execution_count": 15,
   "id": "87ee9ac2",
   "metadata": {},
   "outputs": [],
   "source": [
    "# c_s is defined as c_s^2 == dP/drho in https://arxiv.org/pdf/astro-ph/9706219 section 3 after eq.1\n",
    "# but I'm not sure what how to calculate dP and d rho, so I try to use sqrt(gamma*P/rho), not sure if it's right\n",
    "\n",
    "P_th = 1.0194130441629218e-05 # thermal pressure at z = 2 at mean density from temp_history.py and result.ipynb\n",
    "adiabatic_index = 5/3 #suppose\n",
    "c_s = np.sqrt(adiabatic_index * P_th / rho_2) # speed of sound in the cosmic gas"
   ]
  },
  {
   "cell_type": "code",
   "execution_count": 16,
   "id": "a84ed67f",
   "metadata": {},
   "outputs": [
    {
     "name": "stdout",
     "output_type": "stream",
     "text": [
      "5.806086770048389e-30\n"
     ]
    }
   ],
   "source": [
    "k_J = a_t / c_s * np.sqrt(4 * np.pi * G * rho_2) # Jeans scale wavenumber\n",
    "print(k_J)"
   ]
  },
  {
   "cell_type": "code",
   "execution_count": 17,
   "id": "cbc3a393",
   "metadata": {},
   "outputs": [],
   "source": [
    "def compute_properties(z_assume):\n",
    "    IGM_00 = IGM.IGM_N(0, 0)\n",
    "    index_z = np.where(IGM_00.z > z_assume)[-1][-1]\n",
    "    z = IGM_00.z[index_z]\n",
    "    #print('z', z)\n",
    "    omega_b = omega_b_0 * (1 + z)**3\n",
    "    mean_n_b = 3 * omega_b * H_0 * H_0 / (8 * np.pi * G * m_p) # mean number density of baryons at the redshift\n",
    "    n_b = mean_n_b * IGM_00.Delta[index_z] # local number density of baryons at the redshitf\n",
    "    \n",
    "    n_H = n_b * (1 - Y_He) # nuclei in hydrogen\n",
    "    n_He = n_H * f_He # nuclei in helium, assume He is all 4He\n",
    "\n",
    "    if z <= z_reion_He: # fully ionized\n",
    "        n_e = n_H + 2 * n_He\n",
    "    if z_reion_He < z <= z_reion_H: # He is singly ionized\n",
    "        n_e = n_H + n_He\n",
    "    if z > z_reion_H: # neutral\n",
    "        n_e = 0\n",
    "    \n",
    "    omega_p = (4 * np.pi * r0 * n_e)**0.5 * c\n",
    "    return omega_p, z, n_b, n_e"
   ]
  },
  {
   "cell_type": "code",
   "execution_count": 18,
   "id": "3c698a5c",
   "metadata": {},
   "outputs": [],
   "source": [
    "N_fold = 1\n",
    "omega_p, z_, n_b, n_e = compute_properties(z)"
   ]
  },
  {
   "cell_type": "code",
   "execution_count": 20,
   "id": "2d45bafe",
   "metadata": {},
   "outputs": [
    {
     "name": "stdout",
     "output_type": "stream",
     "text": [
      "0.005295910398618105\n",
      "0.00264796757718487\n"
     ]
    }
   ],
   "source": [
    "angle = 2 * N_fold * c * n_e / (np.pi * omega_p * np.abs(1 / k_J) * np.max(G_x_max))\n",
    "print(angle)\n",
    "theta_min = np.arcsin(angle) / 2\n",
    "print(theta_min)"
   ]
  },
  {
   "cell_type": "code",
   "execution_count": null,
   "id": "9e3fb410",
   "metadata": {},
   "outputs": [],
   "source": []
  }
 ],
 "metadata": {
  "kernelspec": {
   "display_name": "Python 3 (ipykernel)",
   "language": "python",
   "name": "python3"
  },
  "language_info": {
   "codemirror_mode": {
    "name": "ipython",
    "version": 3
   },
   "file_extension": ".py",
   "mimetype": "text/x-python",
   "name": "python",
   "nbconvert_exporter": "python",
   "pygments_lexer": "ipython3",
   "version": "3.9.12"
  }
 },
 "nbformat": 4,
 "nbformat_minor": 5
}
