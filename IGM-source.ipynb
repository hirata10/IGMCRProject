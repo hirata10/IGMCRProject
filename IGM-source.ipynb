{
 "cells": [
  {
   "cell_type": "code",
   "execution_count": 19,
   "id": "51326a38",
   "metadata": {},
   "outputs": [],
   "source": [
    "import numpy as np\n",
    "import scipy.interpolate\n",
    "import scipy.integrate as integrate\n",
    "import matplotlib.pyplot as plt\n",
    "import math\n",
    "\n",
    "r0 = 2.818e-13 # classical electron radius in cm\n",
    "m_e = 9.10938e-28 # electron mass in gram\n",
    "c = 2.998e10 # speed of light in cm/s\n",
    "h = 6.6261e-27 # planck constant in cm^2 g s-1\n",
    "\n",
    "f_He = 0.079\n",
    "H_0 = 2.184e-18 # current hubble constant in s^-1\n",
    "H_r = 3.24076e-18 # 100 km/s/Mpc to 1/s\n",
    "h_0 = H_0 / H_r\n",
    "omega_b_0 = 0.0224 / h_0 / h_0  # current baryon abundance\n",
    "m_p = 1.67262193269e-24 # proton mass in g\n",
    "G = 6.6743e-8 # gravitational constant in cm^3 g^-1 s^-2\n",
    "\n",
    "rho_crit = 3 * H_0 * H_0 / 8 / np.pi / G"
   ]
  },
  {
   "cell_type": "code",
   "execution_count": 2,
   "id": "5fda1e64",
   "metadata": {},
   "outputs": [],
   "source": [
    "z_list = [] # redshift\n",
    "wavelength = [] # in Angstrom, 10^-8 cm\n",
    "EBL = [] # specific intensity J_nu in erg/s/cm^2/Hz/Sr\n",
    "\n",
    "def read_file(filename, z):\n",
    "    with open(filename) as f:\n",
    "        lines = f.readlines()[3:]\n",
    "        for line in lines:\n",
    "            data = line.split()\n",
    "            for x in range(0, len(data), 2):\n",
    "                z_list.append(float(z))\n",
    "                wavelength.append(float(data[x]))\n",
    "                EBL.append(float(data[x+1]))\n",
    "                \n",
    "read_file('C:/Data/EBL_KS18_Q20_z_ 0.0.txt',0)\n",
    "read_file('C:/Data/EBL_KS18_Q20_z_ 0.1.txt',0.1)\n",
    "read_file('C:/Data/EBL_KS18_Q20_z_ 0.2.txt',0.2)\n",
    "read_file('C:/Data/EBL_KS18_Q20_z_ 0.3.txt',0.3)\n",
    "read_file('C:/Data/EBL_KS18_Q20_z_ 0.4.txt',0.4)\n",
    "read_file('C:/Data/EBL_KS18_Q20_z_ 0.5.txt',0.5)\n",
    "read_file('C:/Data/EBL_KS18_Q20_z_ 0.6.txt',0.6)\n",
    "read_file('C:/Data/EBL_KS18_Q20_z_ 0.7.txt',0.7)\n",
    "read_file('C:/Data/EBL_KS18_Q20_z_ 0.8.txt',0.8)\n",
    "read_file('C:/Data/EBL_KS18_Q20_z_ 0.9.txt',0.9)\n",
    "\n",
    "read_file('C:/Data/EBL_KS18_Q20_z_ 1.0.txt',1.0)\n",
    "read_file('C:/Data/EBL_KS18_Q20_z_ 1.1.txt',1.1)\n",
    "read_file('C:/Data/EBL_KS18_Q20_z_ 1.2.txt',1.2)\n",
    "read_file('C:/Data/EBL_KS18_Q20_z_ 1.3.txt',1.3)\n",
    "read_file('C:/Data/EBL_KS18_Q20_z_ 1.4.txt',1.4)\n",
    "read_file('C:/Data/EBL_KS18_Q20_z_ 1.5.txt',1.5)\n",
    "read_file('C:/Data/EBL_KS18_Q20_z_ 1.6.txt',1.6)\n",
    "read_file('C:/Data/EBL_KS18_Q20_z_ 1.7.txt',1.7)\n",
    "read_file('C:/Data/EBL_KS18_Q20_z_ 1.8.txt',1.8)\n",
    "read_file('C:/Data/EBL_KS18_Q20_z_ 1.9.txt',1.9)\n",
    "\n",
    "read_file('C:/Data/EBL_KS18_Q20_z_ 2.0.txt',2.0)\n",
    "read_file('C:/Data/EBL_KS18_Q20_z_ 2.1.txt',2.1)\n",
    "read_file('C:/Data/EBL_KS18_Q20_z_ 2.2.txt',2.2)\n",
    "read_file('C:/Data/EBL_KS18_Q20_z_ 2.3.txt',2.3)\n",
    "read_file('C:/Data/EBL_KS18_Q20_z_ 2.4.txt',2.4)\n",
    "read_file('C:/Data/EBL_KS18_Q20_z_ 2.5.txt',2.5)\n",
    "read_file('C:/Data/EBL_KS18_Q20_z_ 2.6.txt',2.6)\n",
    "read_file('C:/Data/EBL_KS18_Q20_z_ 2.7.txt',2.7)\n",
    "read_file('C:/Data/EBL_KS18_Q20_z_ 2.8.txt',2.8)\n",
    "read_file('C:/Data/EBL_KS18_Q20_z_ 2.9.txt',2.9)\n",
    "\n",
    "read_file('C:/Data/EBL_KS18_Q20_z_ 3.0.txt',3.0)\n",
    "read_file('C:/Data/EBL_KS18_Q20_z_ 3.1.txt',3.1)\n",
    "read_file('C:/Data/EBL_KS18_Q20_z_ 3.2.txt',3.2)\n",
    "read_file('C:/Data/EBL_KS18_Q20_z_ 3.3.txt',3.3)\n",
    "read_file('C:/Data/EBL_KS18_Q20_z_ 3.4.txt',3.4)\n",
    "read_file('C:/Data/EBL_KS18_Q20_z_ 3.5.txt',3.5)\n",
    "read_file('C:/Data/EBL_KS18_Q20_z_ 3.6.txt',3.6)\n",
    "read_file('C:/Data/EBL_KS18_Q20_z_ 3.7.txt',3.7)\n",
    "read_file('C:/Data/EBL_KS18_Q20_z_ 3.8.txt',3.8)\n",
    "read_file('C:/Data/EBL_KS18_Q20_z_ 3.9.txt',3.9)\n",
    "\n",
    "read_file('C:/Data/EBL_KS18_Q20_z_ 4.0.txt',4.0)\n",
    "read_file('C:/Data/EBL_KS18_Q20_z_ 4.1.txt',4.1)\n",
    "read_file('C:/Data/EBL_KS18_Q20_z_ 4.2.txt',4.2)\n",
    "read_file('C:/Data/EBL_KS18_Q20_z_ 4.3.txt',4.3)\n",
    "read_file('C:/Data/EBL_KS18_Q20_z_ 4.4.txt',4.4)\n",
    "read_file('C:/Data/EBL_KS18_Q20_z_ 4.5.txt',4.5)\n",
    "read_file('C:/Data/EBL_KS18_Q20_z_ 4.6.txt',4.6)\n",
    "read_file('C:/Data/EBL_KS18_Q20_z_ 4.7.txt',4.7)\n",
    "read_file('C:/Data/EBL_KS18_Q20_z_ 4.8.txt',4.8)\n",
    "read_file('C:/Data/EBL_KS18_Q20_z_ 4.9.txt',4.9)\n",
    "\n",
    "read_file('C:/Data/EBL_KS18_Q20_z_ 5.0.txt',5.0)\n",
    "read_file('C:/Data/EBL_KS18_Q20_z_ 5.1.txt',5.1)\n",
    "read_file('C:/Data/EBL_KS18_Q20_z_ 5.2.txt',5.2)\n",
    "read_file('C:/Data/EBL_KS18_Q20_z_ 5.3.txt',5.3)\n",
    "read_file('C:/Data/EBL_KS18_Q20_z_ 5.4.txt',5.4)\n",
    "read_file('C:/Data/EBL_KS18_Q20_z_ 5.5.txt',5.5)\n",
    "read_file('C:/Data/EBL_KS18_Q20_z_ 5.6.txt',5.6)\n",
    "read_file('C:/Data/EBL_KS18_Q20_z_ 5.7.txt',5.7)\n",
    "read_file('C:/Data/EBL_KS18_Q20_z_ 5.8.txt',5.8)\n",
    "read_file('C:/Data/EBL_KS18_Q20_z_ 5.9.txt',5.9)\n",
    "\n",
    "read_file('C:/Data/EBL_KS18_Q20_z_ 6.0.txt',6.0)\n",
    "read_file('C:/Data/EBL_KS18_Q20_z_ 6.2.txt',6.2)\n",
    "read_file('C:/Data/EBL_KS18_Q20_z_ 6.4.txt',6.4)\n",
    "read_file('C:/Data/EBL_KS18_Q20_z_ 6.6.txt',6.6)\n",
    "read_file('C:/Data/EBL_KS18_Q20_z_ 6.8.txt',6.8)\n",
    "\n",
    "read_file('C:/Data/EBL_KS18_Q20_z_ 7.0.txt',7.0)\n",
    "read_file('C:/Data/EBL_KS18_Q20_z_ 7.2.txt',7.2)\n",
    "read_file('C:/Data/EBL_KS18_Q20_z_ 7.4.txt',7.4)\n",
    "read_file('C:/Data/EBL_KS18_Q20_z_ 7.6.txt',7.6)\n",
    "read_file('C:/Data/EBL_KS18_Q20_z_ 7.8.txt',7.8)\n",
    "\n",
    "read_file('C:/Data/EBL_KS18_Q20_z_ 8.0.txt',8.0)\n",
    "read_file('C:/Data/EBL_KS18_Q20_z_ 8.2.txt',8.2)\n",
    "read_file('C:/Data/EBL_KS18_Q20_z_ 8.4.txt',8.4)\n",
    "read_file('C:/Data/EBL_KS18_Q20_z_ 8.6.txt',8.6)\n",
    "read_file('C:/Data/EBL_KS18_Q20_z_ 8.8.txt',8.8)\n",
    "\n",
    "read_file('C:/Data/EBL_KS18_Q20_z_ 9.0.txt',9.0)\n",
    "read_file('C:/Data/EBL_KS18_Q20_z_ 9.2.txt',9.2)\n",
    "read_file('C:/Data/EBL_KS18_Q20_z_ 9.4.txt',9.4)\n",
    "read_file('C:/Data/EBL_KS18_Q20_z_ 9.6.txt',9.6)\n",
    "read_file('C:/Data/EBL_KS18_Q20_z_ 9.8.txt',9.8)\n",
    "\n",
    "read_file('C:/Data/EBL_KS18_Q20_z_10.0.txt',10.0)\n",
    "read_file('C:/Data/EBL_KS18_Q20_z_10.5.txt',10.5)\n",
    "\n",
    "read_file('C:/Data/EBL_KS18_Q20_z_11.0.txt',11.0)\n",
    "read_file('C:/Data/EBL_KS18_Q20_z_11.5.txt',11.5)\n",
    "\n",
    "read_file('C:/Data/EBL_KS18_Q20_z_12.0.txt',12.0)\n",
    "read_file('C:/Data/EBL_KS18_Q20_z_12.5.txt',12.5)\n",
    "\n",
    "read_file('C:/Data/EBL_KS18_Q20_z_13.0.txt',13.0)\n",
    "read_file('C:/Data/EBL_KS18_Q20_z_13.5.txt',13.5)\n",
    "\n",
    "read_file('C:/Data/EBL_KS18_Q20_z_14.0.txt',14.0)\n",
    "read_file('C:/Data/EBL_KS18_Q20_z_14.5.txt',14.5)\n",
    "\n",
    "read_file('C:/Data/EBL_KS18_Q20_z_15.0.txt',15.0)"
   ]
  },
  {
   "cell_type": "code",
   "execution_count": 3,
   "id": "1adda4fc",
   "metadata": {},
   "outputs": [
    {
     "name": "stdout",
     "output_type": "stream",
     "text": [
      "63245\n",
      "1e-08 1000000000.0 1.737885e-38 1.655036e-22\n"
     ]
    }
   ],
   "source": [
    "print(len(z_list))\n",
    "print(wavelength[0], wavelength[63244], EBL[0], EBL[63244])"
   ]
  },
  {
   "cell_type": "code",
   "execution_count": 4,
   "id": "b8913d8f",
   "metadata": {},
   "outputs": [],
   "source": [
    "E_gamma_list = [h*c/a*1e8 for a in wavelength] # wavelength in Angstrom to energy in erg"
   ]
  },
  {
   "cell_type": "code",
   "execution_count": 5,
   "id": "6645f8be",
   "metadata": {},
   "outputs": [
    {
     "name": "stdout",
     "output_type": "stream",
     "text": [
      "1.9865047800000004e-17 1.9865047800000002\n"
     ]
    }
   ],
   "source": [
    "print(min(E_gamma_list), max(E_gamma_list))"
   ]
  },
  {
   "cell_type": "code",
   "execution_count": 6,
   "id": "f86bf8d7",
   "metadata": {},
   "outputs": [],
   "source": [
    "# discontinuous z and E_gamma\n",
    "\n",
    "def Source(E, E_gamma, J_nu):\n",
    "    J = 4*np.pi*c * J_nu/h / E_gamma\n",
    "    d_sig = np.pi*r0*r0 * m_e*c*c/(E_gamma*(E_gamma-E)) * (2 + E*E/E_gamma/E_gamma - 2*E/E_gamma - 2*m_e*c*c*E/E_gamma/E_gamma + E*E/E_gamma**3/(E_gamma-E))\n",
    "    return d_sig*J\n",
    "\n",
    "def Source_term(E, z):\n",
    "    # the rate of production of Compton-scattered electrons per unit physical volume per unit energy\n",
    "    # number/cm^3/erg\n",
    "    E_gamma = []\n",
    "    J_nu = []\n",
    "    E_gamma_min = (E + np.sqrt(E * (E + 2*m_e*c*c))) / 2\n",
    "    for i in range(len(z_list)):\n",
    "        if z_list[i] == z:\n",
    "            if E_gamma_list[i] > E_gamma_min:\n",
    "                E_gamma.append(float(E_gamma_list[i]))\n",
    "                J_nu.append(float(EBL[i]))\n",
    "\n",
    "    source_int = 0\n",
    "    for i in range(len(E_gamma)):\n",
    "        source_int += Source(E, E_gamma[i], J_nu[i])\n",
    "    return source_int"
   ]
  },
  {
   "cell_type": "code",
   "execution_count": 7,
   "id": "44e58b9a",
   "metadata": {},
   "outputs": [
    {
     "name": "stdout",
     "output_type": "stream",
     "text": [
      "1007380019.2800739\n"
     ]
    }
   ],
   "source": [
    "print(Source_term(1e-6, 0))"
   ]
  },
  {
   "cell_type": "code",
   "execution_count": 8,
   "id": "22758df8",
   "metadata": {},
   "outputs": [],
   "source": [
    "def EBL_fit(z, wavelength_num):\n",
    "    for i in range(len(z_list)):\n",
    "        if z >= z_list[i]:\n",
    "            index_zj = i\n",
    "            \n",
    "    # suppose when out of the range, the fitted line has the same linearity as the clostest range\n",
    "    if z == 0:\n",
    "        index_zj = 0\n",
    "    if z >= 15:\n",
    "        index_zj = 61855\n",
    "            \n",
    "    for i in range(len(z_list)):\n",
    "        if z_list[i] == z_list[index_zj]:\n",
    "            if wavelength_num >= wavelength[i]:\n",
    "                jk = i\n",
    "            \n",
    "    for i in range(len(z_list)):\n",
    "        if z_list[i] == z_list[index_zj]:\n",
    "            if wavelength_num < wavelength[i]:\n",
    "                jk1 = i\n",
    "                break\n",
    "                \n",
    "    if wavelength_num <= min(wavelength):\n",
    "        jk = len([x for x in z_list if x < z_list[index_zj]])\n",
    "        jk1 = len([x for x in z_list if x < z_list[index_zj]]) + 1\n",
    "    if wavelength_num >= max(wavelength):\n",
    "        jk = len([x for x in z_list if x <= z_list[index_zj]]) - 2\n",
    "        jk1 = len([x for x in z_list if x <= z_list[index_zj]]) - 1\n",
    "            \n",
    "    for i in range(len(z_list)):\n",
    "        if z < z_list[i]:\n",
    "            index_zj1 = i\n",
    "            break\n",
    "            \n",
    "    if z == 0:\n",
    "        index_zj1 = 695\n",
    "    if z >= 15:\n",
    "        index_zj1 = 62550\n",
    "            \n",
    "    for i in range(len(z_list)):\n",
    "        if z_list[i] == z_list[index_zj1]:\n",
    "            if wavelength_num >= wavelength[i]:\n",
    "                j1k = i\n",
    "            \n",
    "    for i in range(len(z_list)):\n",
    "        if z_list[i] == z_list[index_zj1]:\n",
    "            if wavelength_num < wavelength[i]:\n",
    "                j1k1 = i\n",
    "                break\n",
    "                \n",
    "    if wavelength_num <= min(wavelength):\n",
    "        j1k = len([x for x in z_list if x < z_list[index_zj1]])\n",
    "        j1k1 = len([x for x in z_list if x < z_list[index_zj1]]) + 1\n",
    "    if wavelength_num >= max(wavelength):\n",
    "        j1k = len([x for x in z_list if x <= z_list[index_zj1]]) - 2\n",
    "        j1k1 = len([x for x in z_list if x <= z_list[index_zj1]]) - 1\n",
    "            \n",
    "    f_A = EBL[jk] + (z - z_list[index_zj]) / (z_list[index_zj1] - z_list[index_zj]) * (EBL[j1k] - EBL[jk])\n",
    "    f_B = EBL[jk1] + (z - z_list[index_zj]) / (z_list[index_zj1] - z_list[index_zj]) * (EBL[j1k1] - EBL[jk1])\n",
    "    f_xy = f_A + (wavelength_num - wavelength[jk]) / (wavelength[jk1] - wavelength[jk]) * (f_B - f_A)\n",
    "    \n",
    "    return f_xy"
   ]
  },
  {
   "cell_type": "code",
   "execution_count": 9,
   "id": "97be502d",
   "metadata": {},
   "outputs": [
    {
     "name": "stdout",
     "output_type": "stream",
     "text": [
      "-9.606631531834412e-16 9.120000553765927e-16\n"
     ]
    }
   ],
   "source": [
    "EBL_fit_test = []\n",
    "\n",
    "for i in range(len(z_list)):\n",
    "    EBL_fit_i = EBL_fit(z_list[i], wavelength[i])\n",
    "    EBL_fit_test.append(float(EBL_fit_i))\n",
    "    \n",
    "EBL_diff = [a-b for a,b in zip(EBL_fit_test, EBL)]\n",
    "EBL_diff_per = [a/b for a,b in zip(EBL_diff, EBL)]\n",
    "print(min(EBL_diff_per), max(EBL_diff_per))"
   ]
  },
  {
   "cell_type": "code",
   "execution_count": 27,
   "id": "9c88e7f8",
   "metadata": {},
   "outputs": [
    {
     "name": "stdout",
     "output_type": "stream",
     "text": [
      "2.2138173854655308e-07\n"
     ]
    }
   ],
   "source": [
    "# continuous z and E_gamma\n",
    "\n",
    "z = 0\n",
    "\n",
    "omega_b = omega_b_0 * (1 + z)**3\n",
    "n_H = 0.76*omega_b*rho_crit/m_p\n",
    "n_etot = n_H*(1+2*f_He)\n",
    "print(n_etot)\n",
    "\n",
    "def Source(E_gamma, E):\n",
    "    wave = h*c/E_gamma*1e8 # E_gamma to wavelength in Angstrom\n",
    "    J_nu = EBL_fit(z, wave)\n",
    "    omega_b = omega_b_0 * (1 + z)**3\n",
    "    n_H = 0.76*omega_b*rho_crit/m_p\n",
    "    n_etot = n_H*(1+2*f_He)\n",
    "    J = 4*np.pi*n_etot * J_nu/h / E_gamma\n",
    "    d_sig = np.pi*r0*r0 * m_e*c*c/(E_gamma*(E_gamma-E)) * (2 + E*E/E_gamma/E_gamma - 2*E/E_gamma - 2*m_e*c*c*E/E_gamma/E_gamma + E*E/E_gamma**3/(E_gamma-E))\n",
    "    return d_sig*J\n",
    "\n",
    "def Source_term(E):\n",
    "    # the rate of production of Compton-scattered electrons per unit physical volume per unit energy\n",
    "    # number/cm^3/erg\n",
    "    E_gamma_min = (E + np.sqrt(E * (E + 2*m_e*c*c))) / 2\n",
    "    source_int = integrate.quad(Source, E_gamma_min, 1e-4, args=E)\n",
    "    return source_int"
   ]
  },
  {
   "cell_type": "code",
   "execution_count": 28,
   "id": "f6ba44de",
   "metadata": {},
   "outputs": [
    {
     "name": "stdout",
     "output_type": "stream",
     "text": [
      "(1.5364156536110702e-15, 3.0005566097154545e-15)\n"
     ]
    }
   ],
   "source": [
    "print(Source_term(1e-6))"
   ]
  },
  {
   "cell_type": "code",
   "execution_count": null,
   "id": "02073aaa",
   "metadata": {},
   "outputs": [],
   "source": []
  }
 ],
 "metadata": {
  "kernelspec": {
   "display_name": "Python 3 (ipykernel)",
   "language": "python",
   "name": "python3"
  },
  "language_info": {
   "codemirror_mode": {
    "name": "ipython",
    "version": 3
   },
   "file_extension": ".py",
   "mimetype": "text/x-python",
   "name": "python",
   "nbconvert_exporter": "python",
   "pygments_lexer": "ipython3",
   "version": "3.9.7"
  }
 },
 "nbformat": 4,
 "nbformat_minor": 5
}
