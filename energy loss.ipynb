{
 "cells": [
  {
   "cell_type": "code",
   "execution_count": 1,
   "id": "34aae870",
   "metadata": {},
   "outputs": [],
   "source": [
    "import numpy as np\n",
    "import LCDMSphere\n",
    "\n",
    "r0 = 2.818e-13 # classical electron radius in cm\n",
    "m_e = 9.10938e-28 # electron mass in gram\n",
    "c = 2.998e10 # speed of light in cm/s\n",
    "h = 6.6261e-27 # planck constant in cm^2 g s-1\n",
    "k = 1.3808e-16 # boltzmann constant in cm^2 g s^-2 K^-1\n",
    "T_CMB = 2.725 # CMB temperature today in K\n",
    "\n",
    "H_0 = 2.184e-18 # current hubble constant in s^-1\n",
    "H_r = 3.24076e-18 # 100 km/s/Mpc to 1/s\n",
    "h_0 = H_0 / H_r\n",
    "omega_b_0 = 0.0224 / h_0 / h_0  # current baryon abundance\n",
    "m_p = 1.67262193269e-24 # proton mass in g\n",
    "G = 6.6743e-8 # gravitational constant in cm^3 g^-1 s^-2\n",
    "f_He = 0.079 # helium mass fraction\n",
    "f_H = 0.76 # hydrogen fraction\n",
    "\n",
    "z_reion_He = 3 # redshift that He is fully ionized\n",
    "z_reion_H = 11 # redshift that H is fully ionized\n",
    "\n",
    "aR = 8 * np.pi**5 * k**4 / (15 * c**3 * h**3) # radiation constant"
   ]
  },
  {
   "cell_type": "code",
   "execution_count": 2,
   "id": "045c4d9a",
   "metadata": {},
   "outputs": [],
   "source": [
    "def E_loss_inv_Compton(E, z):\n",
    "    T_CMB_z = T_CMB * (1 + z)\n",
    "    return -32 * np.pi * r0 * r0 * aR * T_CMB_z**4 / (9 * m_e * c) * (2 + E / m_e / c / c) * E"
   ]
  },
  {
   "cell_type": "code",
   "execution_count": 13,
   "id": "77094e68",
   "metadata": {},
   "outputs": [],
   "source": [
    "def E_loss_coll_free(E, z, overdensity):\n",
    "    E_loss_free = 0 # initialize\n",
    "    E_loss_coll = 0 # initialize\n",
    "    \n",
    "    omega_b = omega_b_0 * (1 + z)**3\n",
    "    mean_n_b = 3 * omega_b * H_0 * H_0 / (8 * np.pi * G * m_p) # mean number density of baryons at the redshift\n",
    "    n_b = mean_n_b * overdensity # local number density of baryons at the redshitf\n",
    "    \n",
    "    print(\"n_b = \"+str(n_b)) # for test\n",
    "    \n",
    "    n_H = n_b * (1 - f_He) # nuclei in hydrogen\n",
    "    n_He = n_b * f_He / 4 # nuclei in helium, assume He is all 4He\n",
    "    \n",
    "    print(\"n_He = \"+str(n_He)) # for test\n",
    "    \n",
    "    N_ex = [1, 1, 2] # number of bound electrons, H0, He+, He0 accordingly\n",
    "    I_x_eV = [15.0, 59.9, 42.3] # geometric mean excitation energy for H0, He+, He0 accordingly\n",
    "    I_x = [x * 1.602e-12 for x in I_x_eV] # 1eV = 1.602e-12 erg\n",
    "    \n",
    "    if z <= z_reion_He: # fully ionized\n",
    "        n_e = n_H + 2 * n_He\n",
    "        n_x = [0, 0, 0] # number density of H0, He+, He0 accordingly\n",
    "    if z_reion_He < z <= z_reion_H: # He is singly ionized\n",
    "        n_e = n_H + n_He\n",
    "        n_x = [0, n_He, 0]\n",
    "    if z > z_reion_H: # neutral\n",
    "        n_e = 0\n",
    "        n_x = [n_H, 0, n_He]\n",
    "    \n",
    "    gamma = E / (m_e * c * c) + 1\n",
    "    beta = np.sqrt(E * (E + 2 * m_e * c * c)) / (E + m_e * c * c)\n",
    "    omega_p = c * np.sqrt(4 * np.pi * r0 * n_e) # plasma frequency\n",
    "    I = h * omega_p # mean excitation energy\n",
    "    tau = E / (m_e * c * c)\n",
    "    F = (1 - beta * beta) * (1 + tau * tau / 8 - (2 * tau + 1) * np.log(2)) # Moller scattering formula\n",
    "    zeta = 2 * np.log(gamma) - beta * beta # density correction\n",
    "    \n",
    "    if z <= z_reion_H:\n",
    "        E_loss_free = -2 * np.pi * n_e * r0 * r0 * m_e * c**3 / beta * (np.log(E * E / I / I) + np.log(1 + tau / 2) + F - zeta)\n",
    "    if z > z_reion_He:\n",
    "        for i in range(3):\n",
    "            E_loss_coll += -2 * np.pi * r0 * r0 * m_e * c**3 / beta * (N_ex[i] * n_x[i] * (np.log(E * E / I_x[i] / I_x[i]) + np.log(1 + tau / 2) + F))\n",
    "            print('E_loss_coll ='+str(E_loss_coll)) # for test\n",
    "    \n",
    "    return E_loss_free + E_loss_coll"
   ]
  },
  {
   "cell_type": "code",
   "execution_count": 14,
   "id": "092fca36",
   "metadata": {},
   "outputs": [],
   "source": [
    "def E_loss(E, z, overdensity):\n",
    "    E1 = E_loss_inv_Compton(E, z) # energy loss due to inverse Compton\n",
    "    E2 = E_loss_coll_free(E, z, overdensity) # energy loss due to collision\n",
    "    return E1 + E2"
   ]
  },
  {
   "cell_type": "code",
   "execution_count": 15,
   "id": "26109717",
   "metadata": {},
   "outputs": [
    {
     "name": "stdout",
     "output_type": "stream",
     "text": [
      "n_b = 2.012378316030844e-06\n",
      "n_He = 3.974447174160917e-08\n"
     ]
    },
    {
     "data": {
      "text/plain": [
       "-2.915938124473395e-24"
      ]
     },
     "execution_count": 15,
     "metadata": {},
     "output_type": "execute_result"
    }
   ],
   "source": [
    "E_loss(1e-6, 1, 1)"
   ]
  },
  {
   "cell_type": "code",
   "execution_count": 16,
   "id": "84754739",
   "metadata": {},
   "outputs": [
    {
     "name": "stdout",
     "output_type": "stream",
     "text": [
      "n_b = 5.433421453283278e-05\n",
      "n_He = 1.0731007370234475e-06\n",
      "E_loss_coll =0.0\n",
      "E_loss_coll =-2.757752033239887e-25\n",
      "E_loss_coll =-2.757752033239887e-25\n"
     ]
    },
    {
     "data": {
      "text/plain": [
       "-1.132051049857061e-22"
      ]
     },
     "execution_count": 16,
     "metadata": {},
     "output_type": "execute_result"
    }
   ],
   "source": [
    "E_loss(1e-6, 5, 1)"
   ]
  },
  {
   "cell_type": "code",
   "execution_count": 17,
   "id": "54c69f60",
   "metadata": {},
   "outputs": [
    {
     "name": "stdout",
     "output_type": "stream",
     "text": [
      "n_b = 0.0005526493950399705\n",
      "n_He = 1.0914825552039416e-05\n",
      "E_loss_coll =-1.501376919731757e-22\n",
      "E_loss_coll =-1.501376919731757e-22\n",
      "E_loss_coll =-1.559559991254549e-22\n"
     ]
    },
    {
     "data": {
      "text/plain": [
       "-1.4030567328827561e-21"
      ]
     },
     "execution_count": 17,
     "metadata": {},
     "output_type": "execute_result"
    }
   ],
   "source": [
    "E_loss(1e-6, 12, 1)"
   ]
  },
  {
   "cell_type": "code",
   "execution_count": 18,
   "id": "fe408a18",
   "metadata": {},
   "outputs": [
    {
     "name": "stdout",
     "output_type": "stream",
     "text": [
      "-6.91488651538376e-14\n",
      "-7.033335960323204e-13\n"
     ]
    }
   ],
   "source": [
    "# for E = 1e-6 erg approx  0.6 MeV, stopping power due of Helium due to collision is 1.884 MeV approx 3.02e-6 erg\n",
    "def test_sec(E, n_b, stop_power):\n",
    "    m_He = 6.6464731e-24 # Helium mass in gram\n",
    "    v = np.sqrt(1 - 1 / (E / m_e / c / c + 1)**2) * c * c # E = m_e*c*c*(1/np.sqrt(1-v*v/c/c)-1), in cm/s\n",
    "    rho_He = n_b * f_He * m_He # Helium mass density\n",
    "    return -rho_He * v * stop_power # energy loss due to He0\n",
    "\n",
    "E_z5 = test_sec(1e-6, 5.433421453283278e-05, 3.02e-6)\n",
    "E_z12 = test_sec(1e-6, 0.0005526493950399705, 3.02e-6)\n",
    "print(E_z5)\n",
    "print(E_z12)"
   ]
  },
  {
   "cell_type": "code",
   "execution_count": null,
   "id": "ef9b0f10",
   "metadata": {},
   "outputs": [],
   "source": []
  }
 ],
 "metadata": {
  "kernelspec": {
   "display_name": "Python 3 (ipykernel)",
   "language": "python",
   "name": "python3"
  },
  "language_info": {
   "codemirror_mode": {
    "name": "ipython",
    "version": 3
   },
   "file_extension": ".py",
   "mimetype": "text/x-python",
   "name": "python",
   "nbconvert_exporter": "python",
   "pygments_lexer": "ipython3",
   "version": "3.9.7"
  }
 },
 "nbformat": 4,
 "nbformat_minor": 5
}
